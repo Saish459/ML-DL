{
 "cells": [
  {
   "cell_type": "markdown",
   "id": "21223b84",
   "metadata": {
    "id": "21223b84"
   },
   "source": [
    "# Description\n",
    "\n",
    "Objective of this project is to <b> predict insurance charges </b>.\n",
    "\n",
    "<b> Dataset url</b>: https://www.kaggle.com/datasets/awaiskaggler/insurance-csv"
   ]
  },
  {
   "cell_type": "markdown",
   "id": "033d03d7",
   "metadata": {
    "id": "033d03d7"
   },
   "source": [
    "### Importing Libraries and Loadind Dataset"
   ]
  },
  {
   "cell_type": "code",
   "execution_count": 2,
   "id": "11b60215",
   "metadata": {
    "executionInfo": {
     "elapsed": 380,
     "status": "ok",
     "timestamp": 1661675823716,
     "user": {
      "displayName": "Aakash Savant",
      "userId": "07526083973287864057"
     },
     "user_tz": -330
    },
    "id": "11b60215"
   },
   "outputs": [],
   "source": [
    "import numpy as np\n",
    "import pandas as pd\n",
    "import matplotlib.pyplot as plt \n",
    "import seaborn as sns\n",
    "df = pd.read_csv('insurance.csv')"
   ]
  },
  {
   "cell_type": "markdown",
   "id": "23b6aa37",
   "metadata": {
    "id": "23b6aa37"
   },
   "source": [
    "### Performing EDA"
   ]
  },
  {
   "cell_type": "code",
   "execution_count": 20,
   "id": "36064e66",
   "metadata": {
    "colab": {
     "base_uri": "https://localhost:8080/",
     "height": 206
    },
    "executionInfo": {
     "elapsed": 471,
     "status": "ok",
     "timestamp": 1661675834243,
     "user": {
      "displayName": "Aakash Savant",
      "userId": "07526083973287864057"
     },
     "user_tz": -330
    },
    "id": "36064e66",
    "outputId": "0dd64904-5e10-424c-d329-aba30e03e951"
   },
   "outputs": [
    {
     "data": {
      "text/html": [
       "<div>\n",
       "<style scoped>\n",
       "    .dataframe tbody tr th:only-of-type {\n",
       "        vertical-align: middle;\n",
       "    }\n",
       "\n",
       "    .dataframe tbody tr th {\n",
       "        vertical-align: top;\n",
       "    }\n",
       "\n",
       "    .dataframe thead th {\n",
       "        text-align: right;\n",
       "    }\n",
       "</style>\n",
       "<table border=\"1\" class=\"dataframe\">\n",
       "  <thead>\n",
       "    <tr style=\"text-align: right;\">\n",
       "      <th></th>\n",
       "      <th>age</th>\n",
       "      <th>sex</th>\n",
       "      <th>bmi</th>\n",
       "      <th>children</th>\n",
       "      <th>smoker</th>\n",
       "      <th>region</th>\n",
       "      <th>expenses</th>\n",
       "    </tr>\n",
       "  </thead>\n",
       "  <tbody>\n",
       "    <tr>\n",
       "      <th>0</th>\n",
       "      <td>19</td>\n",
       "      <td>female</td>\n",
       "      <td>27.9</td>\n",
       "      <td>0</td>\n",
       "      <td>yes</td>\n",
       "      <td>southwest</td>\n",
       "      <td>16884.92</td>\n",
       "    </tr>\n",
       "    <tr>\n",
       "      <th>1</th>\n",
       "      <td>18</td>\n",
       "      <td>male</td>\n",
       "      <td>33.8</td>\n",
       "      <td>1</td>\n",
       "      <td>no</td>\n",
       "      <td>southeast</td>\n",
       "      <td>1725.55</td>\n",
       "    </tr>\n",
       "    <tr>\n",
       "      <th>2</th>\n",
       "      <td>28</td>\n",
       "      <td>male</td>\n",
       "      <td>33.0</td>\n",
       "      <td>3</td>\n",
       "      <td>no</td>\n",
       "      <td>southeast</td>\n",
       "      <td>4449.46</td>\n",
       "    </tr>\n",
       "    <tr>\n",
       "      <th>3</th>\n",
       "      <td>33</td>\n",
       "      <td>male</td>\n",
       "      <td>22.7</td>\n",
       "      <td>0</td>\n",
       "      <td>no</td>\n",
       "      <td>northwest</td>\n",
       "      <td>21984.47</td>\n",
       "    </tr>\n",
       "    <tr>\n",
       "      <th>4</th>\n",
       "      <td>32</td>\n",
       "      <td>male</td>\n",
       "      <td>28.9</td>\n",
       "      <td>0</td>\n",
       "      <td>no</td>\n",
       "      <td>northwest</td>\n",
       "      <td>3866.86</td>\n",
       "    </tr>\n",
       "    <tr>\n",
       "      <th>5</th>\n",
       "      <td>31</td>\n",
       "      <td>female</td>\n",
       "      <td>25.7</td>\n",
       "      <td>0</td>\n",
       "      <td>no</td>\n",
       "      <td>southeast</td>\n",
       "      <td>3756.62</td>\n",
       "    </tr>\n",
       "    <tr>\n",
       "      <th>6</th>\n",
       "      <td>46</td>\n",
       "      <td>female</td>\n",
       "      <td>33.4</td>\n",
       "      <td>1</td>\n",
       "      <td>no</td>\n",
       "      <td>southeast</td>\n",
       "      <td>8240.59</td>\n",
       "    </tr>\n",
       "    <tr>\n",
       "      <th>7</th>\n",
       "      <td>37</td>\n",
       "      <td>female</td>\n",
       "      <td>27.7</td>\n",
       "      <td>3</td>\n",
       "      <td>no</td>\n",
       "      <td>northwest</td>\n",
       "      <td>7281.51</td>\n",
       "    </tr>\n",
       "    <tr>\n",
       "      <th>8</th>\n",
       "      <td>37</td>\n",
       "      <td>male</td>\n",
       "      <td>29.8</td>\n",
       "      <td>2</td>\n",
       "      <td>no</td>\n",
       "      <td>northeast</td>\n",
       "      <td>6406.41</td>\n",
       "    </tr>\n",
       "    <tr>\n",
       "      <th>9</th>\n",
       "      <td>60</td>\n",
       "      <td>female</td>\n",
       "      <td>25.8</td>\n",
       "      <td>0</td>\n",
       "      <td>no</td>\n",
       "      <td>northwest</td>\n",
       "      <td>28923.14</td>\n",
       "    </tr>\n",
       "  </tbody>\n",
       "</table>\n",
       "</div>"
      ],
      "text/plain": [
       "   age     sex   bmi  children smoker     region  expenses\n",
       "0   19  female  27.9         0    yes  southwest  16884.92\n",
       "1   18    male  33.8         1     no  southeast   1725.55\n",
       "2   28    male  33.0         3     no  southeast   4449.46\n",
       "3   33    male  22.7         0     no  northwest  21984.47\n",
       "4   32    male  28.9         0     no  northwest   3866.86\n",
       "5   31  female  25.7         0     no  southeast   3756.62\n",
       "6   46  female  33.4         1     no  southeast   8240.59\n",
       "7   37  female  27.7         3     no  northwest   7281.51\n",
       "8   37    male  29.8         2     no  northeast   6406.41\n",
       "9   60  female  25.8         0     no  northwest  28923.14"
      ]
     },
     "execution_count": 20,
     "metadata": {},
     "output_type": "execute_result"
    }
   ],
   "source": [
    "df.head(10)"
   ]
  },
  {
   "cell_type": "code",
   "execution_count": 7,
   "id": "316746e0",
   "metadata": {
    "colab": {
     "base_uri": "https://localhost:8080/"
    },
    "executionInfo": {
     "elapsed": 380,
     "status": "ok",
     "timestamp": 1661675852801,
     "user": {
      "displayName": "Aakash Savant",
      "userId": "07526083973287864057"
     },
     "user_tz": -330
    },
    "id": "316746e0",
    "outputId": "09d70528-f26b-46fc-c102-ceec29da71a4"
   },
   "outputs": [
    {
     "name": "stdout",
     "output_type": "stream",
     "text": [
      "No of rows in dataset: 1338\n",
      "No of columns in dataset: 7\n"
     ]
    }
   ],
   "source": [
    "print(\"No of rows in dataset:\", df.shape[0])\n",
    "print(\"No of columns in dataset:\", df.shape[1])"
   ]
  },
  {
   "cell_type": "code",
   "execution_count": 209,
   "id": "681a7595",
   "metadata": {
    "colab": {
     "base_uri": "https://localhost:8080/"
    },
    "executionInfo": {
     "elapsed": 385,
     "status": "ok",
     "timestamp": 1661675857924,
     "user": {
      "displayName": "Aakash Savant",
      "userId": "07526083973287864057"
     },
     "user_tz": -330
    },
    "id": "681a7595",
    "outputId": "7a771e8d-4449-4cfb-d2f0-3debdfde7c29"
   },
   "outputs": [
    {
     "data": {
      "text/plain": [
       "age           int64\n",
       "sex          object\n",
       "bmi         float64\n",
       "children      int64\n",
       "smoker       object\n",
       "region       object\n",
       "charges     float64\n",
       "dtype: object"
      ]
     },
     "execution_count": 209,
     "metadata": {},
     "output_type": "execute_result"
    }
   ],
   "source": [
    "df.dtypes"
   ]
  },
  {
   "cell_type": "code",
   "execution_count": 210,
   "id": "4bea4cc5",
   "metadata": {
    "colab": {
     "base_uri": "https://localhost:8080/"
    },
    "executionInfo": {
     "elapsed": 398,
     "status": "ok",
     "timestamp": 1661675862049,
     "user": {
      "displayName": "Aakash Savant",
      "userId": "07526083973287864057"
     },
     "user_tz": -330
    },
    "id": "4bea4cc5",
    "outputId": "0aaa31a8-510e-4240-e46f-85052dffd69a"
   },
   "outputs": [
    {
     "name": "stdout",
     "output_type": "stream",
     "text": [
      "<class 'pandas.core.frame.DataFrame'>\n",
      "RangeIndex: 1338 entries, 0 to 1337\n",
      "Data columns (total 7 columns):\n",
      " #   Column    Non-Null Count  Dtype  \n",
      "---  ------    --------------  -----  \n",
      " 0   age       1338 non-null   int64  \n",
      " 1   sex       1338 non-null   object \n",
      " 2   bmi       1338 non-null   float64\n",
      " 3   children  1338 non-null   int64  \n",
      " 4   smoker    1338 non-null   object \n",
      " 5   region    1338 non-null   object \n",
      " 6   charges   1338 non-null   float64\n",
      "dtypes: float64(2), int64(2), object(3)\n",
      "memory usage: 73.3+ KB\n"
     ]
    }
   ],
   "source": [
    "# finding out if dataset contains an null values \n",
    "df.info()"
   ]
  },
  {
   "cell_type": "markdown",
   "id": "05116f1e",
   "metadata": {
    "id": "05116f1e"
   },
   "source": [
    "### Describe method\n",
    "\n",
    "Gives summary of each numerical column"
   ]
  },
  {
   "cell_type": "code",
   "execution_count": 8,
   "id": "bace6f3a",
   "metadata": {
    "colab": {
     "base_uri": "https://localhost:8080/",
     "height": 300
    },
    "executionInfo": {
     "elapsed": 395,
     "status": "ok",
     "timestamp": 1661675869488,
     "user": {
      "displayName": "Aakash Savant",
      "userId": "07526083973287864057"
     },
     "user_tz": -330
    },
    "id": "bace6f3a",
    "outputId": "4cfdda2e-0369-40c4-8c14-ac156210e7b0"
   },
   "outputs": [
    {
     "data": {
      "text/html": [
       "<div>\n",
       "<style scoped>\n",
       "    .dataframe tbody tr th:only-of-type {\n",
       "        vertical-align: middle;\n",
       "    }\n",
       "\n",
       "    .dataframe tbody tr th {\n",
       "        vertical-align: top;\n",
       "    }\n",
       "\n",
       "    .dataframe thead th {\n",
       "        text-align: right;\n",
       "    }\n",
       "</style>\n",
       "<table border=\"1\" class=\"dataframe\">\n",
       "  <thead>\n",
       "    <tr style=\"text-align: right;\">\n",
       "      <th></th>\n",
       "      <th>age</th>\n",
       "      <th>bmi</th>\n",
       "      <th>children</th>\n",
       "      <th>expenses</th>\n",
       "    </tr>\n",
       "  </thead>\n",
       "  <tbody>\n",
       "    <tr>\n",
       "      <th>count</th>\n",
       "      <td>1338.000000</td>\n",
       "      <td>1338.000000</td>\n",
       "      <td>1338.000000</td>\n",
       "      <td>1338.000000</td>\n",
       "    </tr>\n",
       "    <tr>\n",
       "      <th>mean</th>\n",
       "      <td>39.207025</td>\n",
       "      <td>30.665471</td>\n",
       "      <td>1.094918</td>\n",
       "      <td>13270.422414</td>\n",
       "    </tr>\n",
       "    <tr>\n",
       "      <th>std</th>\n",
       "      <td>14.049960</td>\n",
       "      <td>6.098382</td>\n",
       "      <td>1.205493</td>\n",
       "      <td>12110.011240</td>\n",
       "    </tr>\n",
       "    <tr>\n",
       "      <th>min</th>\n",
       "      <td>18.000000</td>\n",
       "      <td>16.000000</td>\n",
       "      <td>0.000000</td>\n",
       "      <td>1121.870000</td>\n",
       "    </tr>\n",
       "    <tr>\n",
       "      <th>25%</th>\n",
       "      <td>27.000000</td>\n",
       "      <td>26.300000</td>\n",
       "      <td>0.000000</td>\n",
       "      <td>4740.287500</td>\n",
       "    </tr>\n",
       "    <tr>\n",
       "      <th>50%</th>\n",
       "      <td>39.000000</td>\n",
       "      <td>30.400000</td>\n",
       "      <td>1.000000</td>\n",
       "      <td>9382.030000</td>\n",
       "    </tr>\n",
       "    <tr>\n",
       "      <th>75%</th>\n",
       "      <td>51.000000</td>\n",
       "      <td>34.700000</td>\n",
       "      <td>2.000000</td>\n",
       "      <td>16639.915000</td>\n",
       "    </tr>\n",
       "    <tr>\n",
       "      <th>max</th>\n",
       "      <td>64.000000</td>\n",
       "      <td>53.100000</td>\n",
       "      <td>5.000000</td>\n",
       "      <td>63770.430000</td>\n",
       "    </tr>\n",
       "  </tbody>\n",
       "</table>\n",
       "</div>"
      ],
      "text/plain": [
       "               age          bmi     children      expenses\n",
       "count  1338.000000  1338.000000  1338.000000   1338.000000\n",
       "mean     39.207025    30.665471     1.094918  13270.422414\n",
       "std      14.049960     6.098382     1.205493  12110.011240\n",
       "min      18.000000    16.000000     0.000000   1121.870000\n",
       "25%      27.000000    26.300000     0.000000   4740.287500\n",
       "50%      39.000000    30.400000     1.000000   9382.030000\n",
       "75%      51.000000    34.700000     2.000000  16639.915000\n",
       "max      64.000000    53.100000     5.000000  63770.430000"
      ]
     },
     "execution_count": 8,
     "metadata": {},
     "output_type": "execute_result"
    }
   ],
   "source": [
    "# statistical Summary\n",
    "df.describe()"
   ]
  },
  {
   "cell_type": "markdown",
   "id": "a62b1167",
   "metadata": {
    "id": "a62b1167"
   },
   "source": [
    "## Numerical Features"
   ]
  },
  {
   "cell_type": "code",
   "execution_count": 10,
   "id": "bf3f9100",
   "metadata": {
    "colab": {
     "base_uri": "https://localhost:8080/"
    },
    "executionInfo": {
     "elapsed": 388,
     "status": "ok",
     "timestamp": 1661675880400,
     "user": {
      "displayName": "Aakash Savant",
      "userId": "07526083973287864057"
     },
     "user_tz": -330
    },
    "id": "bf3f9100",
    "outputId": "2b363e25-0862-4976-848b-d5fc00516d0a"
   },
   "outputs": [
    {
     "data": {
      "text/plain": [
       "['age', 'bmi', 'children', 'expenses']"
      ]
     },
     "execution_count": 10,
     "metadata": {},
     "output_type": "execute_result"
    }
   ],
   "source": [
    "[features for features in df.dtypes[df.dtypes !='object'].index]"
   ]
  },
  {
   "cell_type": "code",
   "execution_count": 11,
   "id": "f2c30363",
   "metadata": {
    "executionInfo": {
     "elapsed": 362,
     "status": "ok",
     "timestamp": 1661675883990,
     "user": {
      "displayName": "Aakash Savant",
      "userId": "07526083973287864057"
     },
     "user_tz": -330
    },
    "id": "f2c30363"
   },
   "outputs": [],
   "source": [
    "num_features = df.dtypes[df.dtypes !=object].index"
   ]
  },
  {
   "cell_type": "code",
   "execution_count": 18,
   "id": "e6eb07dc",
   "metadata": {
    "colab": {
     "base_uri": "https://localhost:8080/"
    },
    "executionInfo": {
     "elapsed": 13,
     "status": "ok",
     "timestamp": 1661675886490,
     "user": {
      "displayName": "Aakash Savant",
      "userId": "07526083973287864057"
     },
     "user_tz": -330
    },
    "id": "e6eb07dc",
    "outputId": "975a8550-f4dc-4fc1-cb32-57f6919df0e0"
   },
   "outputs": [
    {
     "name": "stdout",
     "output_type": "stream",
     "text": [
      "No of Numerical features:  4\n"
     ]
    },
    {
     "data": {
      "text/plain": [
       "(Index(['sex', 'smoker', 'region'], dtype='object'), None)"
      ]
     },
     "execution_count": 18,
     "metadata": {},
     "output_type": "execute_result"
    }
   ],
   "source": [
    "cat_features, print(\"No of Numerical features: \",len(num_features))"
   ]
  },
  {
   "cell_type": "code",
   "execution_count": 14,
   "id": "4ee9d3dd",
   "metadata": {
    "colab": {
     "base_uri": "https://localhost:8080/",
     "height": 300
    },
    "executionInfo": {
     "elapsed": 396,
     "status": "ok",
     "timestamp": 1661675891219,
     "user": {
      "displayName": "Aakash Savant",
      "userId": "07526083973287864057"
     },
     "user_tz": -330
    },
    "id": "4ee9d3dd",
    "outputId": "c937c0e9-7bbe-4731-ed9b-392a42502ced"
   },
   "outputs": [
    {
     "data": {
      "text/html": [
       "<div>\n",
       "<style scoped>\n",
       "    .dataframe tbody tr th:only-of-type {\n",
       "        vertical-align: middle;\n",
       "    }\n",
       "\n",
       "    .dataframe tbody tr th {\n",
       "        vertical-align: top;\n",
       "    }\n",
       "\n",
       "    .dataframe thead th {\n",
       "        text-align: right;\n",
       "    }\n",
       "</style>\n",
       "<table border=\"1\" class=\"dataframe\">\n",
       "  <thead>\n",
       "    <tr style=\"text-align: right;\">\n",
       "      <th></th>\n",
       "      <th>age</th>\n",
       "      <th>bmi</th>\n",
       "      <th>children</th>\n",
       "      <th>expenses</th>\n",
       "    </tr>\n",
       "  </thead>\n",
       "  <tbody>\n",
       "    <tr>\n",
       "      <th>count</th>\n",
       "      <td>1338.000000</td>\n",
       "      <td>1338.000000</td>\n",
       "      <td>1338.000000</td>\n",
       "      <td>1338.000000</td>\n",
       "    </tr>\n",
       "    <tr>\n",
       "      <th>mean</th>\n",
       "      <td>39.207025</td>\n",
       "      <td>30.665471</td>\n",
       "      <td>1.094918</td>\n",
       "      <td>13270.422414</td>\n",
       "    </tr>\n",
       "    <tr>\n",
       "      <th>std</th>\n",
       "      <td>14.049960</td>\n",
       "      <td>6.098382</td>\n",
       "      <td>1.205493</td>\n",
       "      <td>12110.011240</td>\n",
       "    </tr>\n",
       "    <tr>\n",
       "      <th>min</th>\n",
       "      <td>18.000000</td>\n",
       "      <td>16.000000</td>\n",
       "      <td>0.000000</td>\n",
       "      <td>1121.870000</td>\n",
       "    </tr>\n",
       "    <tr>\n",
       "      <th>25%</th>\n",
       "      <td>27.000000</td>\n",
       "      <td>26.300000</td>\n",
       "      <td>0.000000</td>\n",
       "      <td>4740.287500</td>\n",
       "    </tr>\n",
       "    <tr>\n",
       "      <th>50%</th>\n",
       "      <td>39.000000</td>\n",
       "      <td>30.400000</td>\n",
       "      <td>1.000000</td>\n",
       "      <td>9382.030000</td>\n",
       "    </tr>\n",
       "    <tr>\n",
       "      <th>75%</th>\n",
       "      <td>51.000000</td>\n",
       "      <td>34.700000</td>\n",
       "      <td>2.000000</td>\n",
       "      <td>16639.915000</td>\n",
       "    </tr>\n",
       "    <tr>\n",
       "      <th>max</th>\n",
       "      <td>64.000000</td>\n",
       "      <td>53.100000</td>\n",
       "      <td>5.000000</td>\n",
       "      <td>63770.430000</td>\n",
       "    </tr>\n",
       "  </tbody>\n",
       "</table>\n",
       "</div>"
      ],
      "text/plain": [
       "               age          bmi     children      expenses\n",
       "count  1338.000000  1338.000000  1338.000000   1338.000000\n",
       "mean     39.207025    30.665471     1.094918  13270.422414\n",
       "std      14.049960     6.098382     1.205493  12110.011240\n",
       "min      18.000000    16.000000     0.000000   1121.870000\n",
       "25%      27.000000    26.300000     0.000000   4740.287500\n",
       "50%      39.000000    30.400000     1.000000   9382.030000\n",
       "75%      51.000000    34.700000     2.000000  16639.915000\n",
       "max      64.000000    53.100000     5.000000  63770.430000"
      ]
     },
     "execution_count": 14,
     "metadata": {},
     "output_type": "execute_result"
    }
   ],
   "source": [
    "# summarize numerical features\n",
    "df[num_features].describe()"
   ]
  },
  {
   "cell_type": "markdown",
   "id": "6211c7a6",
   "metadata": {
    "id": "6211c7a6"
   },
   "source": [
    "## Categorical Features "
   ]
  },
  {
   "cell_type": "code",
   "execution_count": 17,
   "id": "cffd1689",
   "metadata": {
    "colab": {
     "base_uri": "https://localhost:8080/"
    },
    "executionInfo": {
     "elapsed": 392,
     "status": "ok",
     "timestamp": 1661675896926,
     "user": {
      "displayName": "Aakash Savant",
      "userId": "07526083973287864057"
     },
     "user_tz": -330
    },
    "id": "cffd1689",
    "outputId": "43c2364f-b02e-4f8e-b4c2-a44755d4b029"
   },
   "outputs": [
    {
     "name": "stdout",
     "output_type": "stream",
     "text": [
      "No of categorical features:  3\n"
     ]
    },
    {
     "data": {
      "text/plain": [
       "(Index(['sex', 'smoker', 'region'], dtype='object'), None)"
      ]
     },
     "execution_count": 17,
     "metadata": {},
     "output_type": "execute_result"
    }
   ],
   "source": [
    "cat_features = df.dtypes[df.dtypes=='object'].index\n",
    "cat_features, print(\"No of categorical features: \",len(cat_features))"
   ]
  },
  {
   "cell_type": "code",
   "execution_count": 19,
   "id": "55ec42ae",
   "metadata": {
    "colab": {
     "base_uri": "https://localhost:8080/",
     "height": 175
    },
    "executionInfo": {
     "elapsed": 379,
     "status": "ok",
     "timestamp": 1661675902254,
     "user": {
      "displayName": "Aakash Savant",
      "userId": "07526083973287864057"
     },
     "user_tz": -330
    },
    "id": "55ec42ae",
    "outputId": "fa635990-43b9-4f18-e206-e34dd3e531ca"
   },
   "outputs": [
    {
     "data": {
      "text/html": [
       "<div>\n",
       "<style scoped>\n",
       "    .dataframe tbody tr th:only-of-type {\n",
       "        vertical-align: middle;\n",
       "    }\n",
       "\n",
       "    .dataframe tbody tr th {\n",
       "        vertical-align: top;\n",
       "    }\n",
       "\n",
       "    .dataframe thead th {\n",
       "        text-align: right;\n",
       "    }\n",
       "</style>\n",
       "<table border=\"1\" class=\"dataframe\">\n",
       "  <thead>\n",
       "    <tr style=\"text-align: right;\">\n",
       "      <th></th>\n",
       "      <th>sex</th>\n",
       "      <th>smoker</th>\n",
       "      <th>region</th>\n",
       "    </tr>\n",
       "  </thead>\n",
       "  <tbody>\n",
       "    <tr>\n",
       "      <th>count</th>\n",
       "      <td>1338</td>\n",
       "      <td>1338</td>\n",
       "      <td>1338</td>\n",
       "    </tr>\n",
       "    <tr>\n",
       "      <th>unique</th>\n",
       "      <td>2</td>\n",
       "      <td>2</td>\n",
       "      <td>4</td>\n",
       "    </tr>\n",
       "    <tr>\n",
       "      <th>top</th>\n",
       "      <td>male</td>\n",
       "      <td>no</td>\n",
       "      <td>southeast</td>\n",
       "    </tr>\n",
       "    <tr>\n",
       "      <th>freq</th>\n",
       "      <td>676</td>\n",
       "      <td>1064</td>\n",
       "      <td>364</td>\n",
       "    </tr>\n",
       "  </tbody>\n",
       "</table>\n",
       "</div>"
      ],
      "text/plain": [
       "         sex smoker     region\n",
       "count   1338   1338       1338\n",
       "unique     2      2          4\n",
       "top     male     no  southeast\n",
       "freq     676   1064        364"
      ]
     },
     "execution_count": 19,
     "metadata": {},
     "output_type": "execute_result"
    }
   ],
   "source": [
    "# summarize categorical features\n",
    "df[cat_features].describe()"
   ]
  },
  {
   "cell_type": "markdown",
   "id": "9935fd85",
   "metadata": {
    "id": "9935fd85"
   },
   "source": [
    "## Unique values in categorical variables "
   ]
  },
  {
   "cell_type": "code",
   "execution_count": 23,
   "id": "bd58e174",
   "metadata": {
    "colab": {
     "base_uri": "https://localhost:8080/"
    },
    "executionInfo": {
     "elapsed": 26,
     "status": "ok",
     "timestamp": 1661675909709,
     "user": {
      "displayName": "Aakash Savant",
      "userId": "07526083973287864057"
     },
     "user_tz": -330
    },
    "id": "bd58e174",
    "outputId": "daa8b51c-0b9b-47f0-fd39-8c113a60539b"
   },
   "outputs": [
    {
     "name": "stdout",
     "output_type": "stream",
     "text": [
      "male      676\n",
      "female    662\n",
      "Name: sex, dtype: int64\n"
     ]
    }
   ],
   "source": [
    "#count number of labels in sex variable \n",
    "print(df.sex.value_counts())"
   ]
  },
  {
   "cell_type": "code",
   "execution_count": 30,
   "id": "e0635e0b",
   "metadata": {
    "colab": {
     "base_uri": "https://localhost:8080/"
    },
    "executionInfo": {
     "elapsed": 21,
     "status": "ok",
     "timestamp": 1661675914686,
     "user": {
      "displayName": "Aakash Savant",
      "userId": "07526083973287864057"
     },
     "user_tz": -330
    },
    "id": "e0635e0b",
    "outputId": "5c4890b5-eb62-46bc-bcfe-e5c07181da97"
   },
   "outputs": [
    {
     "name": "stdout",
     "output_type": "stream",
     "text": [
      "no     1064\n",
      "yes     274\n",
      "Name: smoker, dtype: int64\n"
     ]
    }
   ],
   "source": [
    "#count number of labels in smoker variable \n",
    "print(df[\"smoker\"].value_counts())"
   ]
  },
  {
   "cell_type": "code",
   "execution_count": 29,
   "id": "97c986d0",
   "metadata": {},
   "outputs": [
    {
     "name": "stdout",
     "output_type": "stream",
     "text": [
      "sex : ['female' 'male']\n",
      "smoker : ['yes' 'no']\n",
      "region : ['southwest' 'southeast' 'northwest' 'northeast']\n"
     ]
    }
   ],
   "source": [
    "for i in cat_features:\n",
    "    print(i,\":\", df[i].unique())"
   ]
  },
  {
   "cell_type": "code",
   "execution_count": 31,
   "id": "4ba9cd26",
   "metadata": {
    "colab": {
     "base_uri": "https://localhost:8080/"
    },
    "executionInfo": {
     "elapsed": 26,
     "status": "ok",
     "timestamp": 1661675919191,
     "user": {
      "displayName": "Aakash Savant",
      "userId": "07526083973287864057"
     },
     "user_tz": -330
    },
    "id": "4ba9cd26",
    "outputId": "1fb58df3-8d6c-4483-8774-488fa6c30b3c"
   },
   "outputs": [
    {
     "name": "stdout",
     "output_type": "stream",
     "text": [
      "southeast    364\n",
      "southwest    325\n",
      "northwest    325\n",
      "northeast    324\n",
      "Name: region, dtype: int64\n"
     ]
    }
   ],
   "source": [
    "#print number of labels in 'region'  variable \n",
    "print(df[\"region\"].value_counts())"
   ]
  },
  {
   "cell_type": "markdown",
   "id": "9172975a",
   "metadata": {
    "id": "9172975a"
   },
   "source": [
    "## Data Cleaning:\n",
    "      "
   ]
  },
  {
   "cell_type": "code",
   "execution_count": 32,
   "id": "f183d2e5",
   "metadata": {
    "colab": {
     "base_uri": "https://localhost:8080/"
    },
    "executionInfo": {
     "elapsed": 394,
     "status": "ok",
     "timestamp": 1661675924591,
     "user": {
      "displayName": "Aakash Savant",
      "userId": "07526083973287864057"
     },
     "user_tz": -330
    },
    "id": "f183d2e5",
    "outputId": "62dcbe7d-955f-45b5-aceb-a434a0d77309"
   },
   "outputs": [
    {
     "data": {
      "text/plain": [
       "(1338, 7)"
      ]
     },
     "execution_count": 32,
     "metadata": {},
     "output_type": "execute_result"
    }
   ],
   "source": [
    "# check shape before drop duplicates \n",
    "df.shape"
   ]
  },
  {
   "cell_type": "code",
   "execution_count": 33,
   "id": "1c056533",
   "metadata": {
    "executionInfo": {
     "elapsed": 3,
     "status": "ok",
     "timestamp": 1661675927371,
     "user": {
      "displayName": "Aakash Savant",
      "userId": "07526083973287864057"
     },
     "user_tz": -330
    },
    "id": "1c056533"
   },
   "outputs": [],
   "source": [
    "#Dropping duplicate rows\n",
    "df = df.drop_duplicates()"
   ]
  },
  {
   "cell_type": "code",
   "execution_count": 36,
   "id": "5471489f",
   "metadata": {
    "colab": {
     "base_uri": "https://localhost:8080/"
    },
    "executionInfo": {
     "elapsed": 16,
     "status": "ok",
     "timestamp": 1661675929743,
     "user": {
      "displayName": "Aakash Savant",
      "userId": "07526083973287864057"
     },
     "user_tz": -330
    },
    "id": "5471489f",
    "outputId": "f73f6e86-81a7-4bca-952d-272831604a39"
   },
   "outputs": [
    {
     "data": {
      "text/plain": [
       "(1337, 7)"
      ]
     },
     "execution_count": 36,
     "metadata": {},
     "output_type": "execute_result"
    }
   ],
   "source": [
    "# check shape after dropping duplicates\n",
    "df.shape"
   ]
  },
  {
   "cell_type": "markdown",
   "id": "881d2dc7",
   "metadata": {
    "id": "881d2dc7"
   },
   "source": [
    "There is a difference of 1 row in previous and current dataset, i.e (Only one row duplicated)"
   ]
  },
  {
   "cell_type": "markdown",
   "id": "40467885",
   "metadata": {
    "id": "40467885"
   },
   "source": [
    "## Check NULL Values"
   ]
  },
  {
   "cell_type": "code",
   "execution_count": 35,
   "id": "8dc0b455",
   "metadata": {
    "colab": {
     "base_uri": "https://localhost:8080/"
    },
    "executionInfo": {
     "elapsed": 386,
     "status": "ok",
     "timestamp": 1661675935938,
     "user": {
      "displayName": "Aakash Savant",
      "userId": "07526083973287864057"
     },
     "user_tz": -330
    },
    "id": "8dc0b455",
    "outputId": "1ca49d66-cee4-401b-b4f9-a1de1df5d0fd"
   },
   "outputs": [
    {
     "data": {
      "text/plain": [
       "age         0\n",
       "sex         0\n",
       "bmi         0\n",
       "children    0\n",
       "smoker      0\n",
       "region      0\n",
       "expenses    0\n",
       "dtype: int64"
      ]
     },
     "execution_count": 35,
     "metadata": {},
     "output_type": "execute_result"
    }
   ],
   "source": [
    "df.isnull().sum()"
   ]
  },
  {
   "cell_type": "markdown",
   "id": "69f38fca",
   "metadata": {
    "id": "69f38fca"
   },
   "source": [
    "## Visulaizing Dataset"
   ]
  },
  {
   "cell_type": "code",
   "execution_count": 37,
   "id": "94e317b0",
   "metadata": {
    "colab": {
     "base_uri": "https://localhost:8080/",
     "height": 608
    },
    "executionInfo": {
     "elapsed": 2195,
     "status": "ok",
     "timestamp": 1661675943347,
     "user": {
      "displayName": "Aakash Savant",
      "userId": "07526083973287864057"
     },
     "user_tz": -330
    },
    "id": "94e317b0",
    "outputId": "7ba7b87b-eb36-4de3-ddcf-926362e9d103"
   },
   "outputs": [
    {
     "data": {
      "image/png": "[encoded data removed]",
      "text/plain": [
       "<Figure size 720x720 with 4 Axes>"
      ]
     },
     "metadata": {
      "needs_background": "light"
     },
     "output_type": "display_data"
    }
   ],
   "source": [
    "# Histogram of each feature \n",
    "\n",
    "df.hist(bins=10,figsize=(10,10))\n",
    "plt.show()"
   ]
  },
  {
   "cell_type": "markdown",
   "id": "d6162d84",
   "metadata": {
    "id": "d6162d84"
   },
   "source": [
    "# Scatter plot \n",
    "\n",
    "Scatter Plots are used for Biavariate analysis"
   ]
  },
  {
   "cell_type": "code",
   "execution_count": 38,
   "id": "efb220e0",
   "metadata": {
    "colab": {
     "base_uri": "https://localhost:8080/",
     "height": 1000
    },
    "executionInfo": {
     "elapsed": 2734,
     "status": "ok",
     "timestamp": 1661675951255,
     "user": {
      "displayName": "Aakash Savant",
      "userId": "07526083973287864057"
     },
     "user_tz": -330
    },
    "id": "efb220e0",
    "outputId": "772cb809-11ac-49db-bb25-303a0b07989a"
   },
   "outputs": [
    {
     "data": {
      "text/plain": [
       "array([[<AxesSubplot:xlabel='age', ylabel='age'>,\n",
       "        <AxesSubplot:xlabel='bmi', ylabel='age'>,\n",
       "        <AxesSubplot:xlabel='children', ylabel='age'>,\n",
       "        <AxesSubplot:xlabel='expenses', ylabel='age'>],\n",
       "       [<AxesSubplot:xlabel='age', ylabel='bmi'>,\n",
       "        <AxesSubplot:xlabel='bmi', ylabel='bmi'>,\n",
       "        <AxesSubplot:xlabel='children', ylabel='bmi'>,\n",
       "        <AxesSubplot:xlabel='expenses', ylabel='bmi'>],\n",
       "       [<AxesSubplot:xlabel='age', ylabel='children'>,\n",
       "        <AxesSubplot:xlabel='bmi', ylabel='children'>,\n",
       "        <AxesSubplot:xlabel='children', ylabel='children'>,\n",
       "        <AxesSubplot:xlabel='expenses', ylabel='children'>],\n",
       "       [<AxesSubplot:xlabel='age', ylabel='expenses'>,\n",
       "        <AxesSubplot:xlabel='bmi', ylabel='expenses'>,\n",
       "        <AxesSubplot:xlabel='children', ylabel='expenses'>,\n",
       "        <AxesSubplot:xlabel='expenses', ylabel='expenses'>]], dtype=object)"
      ]
     },
     "execution_count": 38,
     "metadata": {},
     "output_type": "execute_result"
    },
    {
     "data": {
      "image/png": "[encoded data removed]",
      "text/plain": [
       "<Figure size 1440x1440 with 16 Axes>"
      ]
     },
     "metadata": {
      "needs_background": "light"
     },
     "output_type": "display_data"
    }
   ],
   "source": [
    "from pandas.plotting import scatter_matrix\n",
    "\n",
    "scatter_matrix(df,figsize=(20,20))"
   ]
  },
  {
   "cell_type": "markdown",
   "id": "8261ea1e",
   "metadata": {
    "id": "8261ea1e"
   },
   "source": [
    "## Feature Engineering:\n",
    "\n",
    "### Converting Categorical Variable to Numerical variable "
   ]
  },
  {
   "cell_type": "code",
   "execution_count": 40,
   "id": "de71dc2c",
   "metadata": {
    "executionInfo": {
     "elapsed": 368,
     "status": "ok",
     "timestamp": 1661675963436,
     "user": {
      "displayName": "Aakash Savant",
      "userId": "07526083973287864057"
     },
     "user_tz": -330
    },
    "id": "de71dc2c"
   },
   "outputs": [],
   "source": [
    "dummies = pd.get_dummies(df.sex)"
   ]
  },
  {
   "cell_type": "code",
   "execution_count": 41,
   "id": "31f11361",
   "metadata": {
    "colab": {
     "base_uri": "https://localhost:8080/",
     "height": 206
    },
    "executionInfo": {
     "elapsed": 6,
     "status": "ok",
     "timestamp": 1661675965001,
     "user": {
      "displayName": "Aakash Savant",
      "userId": "07526083973287864057"
     },
     "user_tz": -330
    },
    "id": "31f11361",
    "outputId": "86de5162-07e8-4fb1-e34c-27cdcdacd34d"
   },
   "outputs": [
    {
     "data": {
      "text/html": [
       "<div>\n",
       "<style scoped>\n",
       "    .dataframe tbody tr th:only-of-type {\n",
       "        vertical-align: middle;\n",
       "    }\n",
       "\n",
       "    .dataframe tbody tr th {\n",
       "        vertical-align: top;\n",
       "    }\n",
       "\n",
       "    .dataframe thead th {\n",
       "        text-align: right;\n",
       "    }\n",
       "</style>\n",
       "<table border=\"1\" class=\"dataframe\">\n",
       "  <thead>\n",
       "    <tr style=\"text-align: right;\">\n",
       "      <th></th>\n",
       "      <th>female</th>\n",
       "      <th>male</th>\n",
       "    </tr>\n",
       "  </thead>\n",
       "  <tbody>\n",
       "    <tr>\n",
       "      <th>0</th>\n",
       "      <td>1</td>\n",
       "      <td>0</td>\n",
       "    </tr>\n",
       "    <tr>\n",
       "      <th>1</th>\n",
       "      <td>0</td>\n",
       "      <td>1</td>\n",
       "    </tr>\n",
       "    <tr>\n",
       "      <th>2</th>\n",
       "      <td>0</td>\n",
       "      <td>1</td>\n",
       "    </tr>\n",
       "    <tr>\n",
       "      <th>3</th>\n",
       "      <td>0</td>\n",
       "      <td>1</td>\n",
       "    </tr>\n",
       "    <tr>\n",
       "      <th>4</th>\n",
       "      <td>0</td>\n",
       "      <td>1</td>\n",
       "    </tr>\n",
       "  </tbody>\n",
       "</table>\n",
       "</div>"
      ],
      "text/plain": [
       "   female  male\n",
       "0       1     0\n",
       "1       0     1\n",
       "2       0     1\n",
       "3       0     1\n",
       "4       0     1"
      ]
     },
     "execution_count": 41,
     "metadata": {},
     "output_type": "execute_result"
    }
   ],
   "source": [
    "dummies.head()"
   ]
  },
  {
   "cell_type": "code",
   "execution_count": 42,
   "id": "799fcd20",
   "metadata": {
    "colab": {
     "base_uri": "https://localhost:8080/",
     "height": 206
    },
    "executionInfo": {
     "elapsed": 373,
     "status": "ok",
     "timestamp": 1661675968541,
     "user": {
      "displayName": "Aakash Savant",
      "userId": "07526083973287864057"
     },
     "user_tz": -330
    },
    "id": "799fcd20",
    "outputId": "3fb5190f-2e7e-4e25-ef95-64569d5d9abc"
   },
   "outputs": [
    {
     "data": {
      "text/html": [
       "<div>\n",
       "<style scoped>\n",
       "    .dataframe tbody tr th:only-of-type {\n",
       "        vertical-align: middle;\n",
       "    }\n",
       "\n",
       "    .dataframe tbody tr th {\n",
       "        vertical-align: top;\n",
       "    }\n",
       "\n",
       "    .dataframe thead th {\n",
       "        text-align: right;\n",
       "    }\n",
       "</style>\n",
       "<table border=\"1\" class=\"dataframe\">\n",
       "  <thead>\n",
       "    <tr style=\"text-align: right;\">\n",
       "      <th></th>\n",
       "      <th>age</th>\n",
       "      <th>sex</th>\n",
       "      <th>bmi</th>\n",
       "      <th>children</th>\n",
       "      <th>smoker</th>\n",
       "      <th>region</th>\n",
       "      <th>expenses</th>\n",
       "      <th>female</th>\n",
       "      <th>male</th>\n",
       "    </tr>\n",
       "  </thead>\n",
       "  <tbody>\n",
       "    <tr>\n",
       "      <th>0</th>\n",
       "      <td>19</td>\n",
       "      <td>female</td>\n",
       "      <td>27.9</td>\n",
       "      <td>0</td>\n",
       "      <td>yes</td>\n",
       "      <td>southwest</td>\n",
       "      <td>16884.92</td>\n",
       "      <td>1</td>\n",
       "      <td>0</td>\n",
       "    </tr>\n",
       "    <tr>\n",
       "      <th>1</th>\n",
       "      <td>18</td>\n",
       "      <td>male</td>\n",
       "      <td>33.8</td>\n",
       "      <td>1</td>\n",
       "      <td>no</td>\n",
       "      <td>southeast</td>\n",
       "      <td>1725.55</td>\n",
       "      <td>0</td>\n",
       "      <td>1</td>\n",
       "    </tr>\n",
       "    <tr>\n",
       "      <th>2</th>\n",
       "      <td>28</td>\n",
       "      <td>male</td>\n",
       "      <td>33.0</td>\n",
       "      <td>3</td>\n",
       "      <td>no</td>\n",
       "      <td>southeast</td>\n",
       "      <td>4449.46</td>\n",
       "      <td>0</td>\n",
       "      <td>1</td>\n",
       "    </tr>\n",
       "    <tr>\n",
       "      <th>3</th>\n",
       "      <td>33</td>\n",
       "      <td>male</td>\n",
       "      <td>22.7</td>\n",
       "      <td>0</td>\n",
       "      <td>no</td>\n",
       "      <td>northwest</td>\n",
       "      <td>21984.47</td>\n",
       "      <td>0</td>\n",
       "      <td>1</td>\n",
       "    </tr>\n",
       "    <tr>\n",
       "      <th>4</th>\n",
       "      <td>32</td>\n",
       "      <td>male</td>\n",
       "      <td>28.9</td>\n",
       "      <td>0</td>\n",
       "      <td>no</td>\n",
       "      <td>northwest</td>\n",
       "      <td>3866.86</td>\n",
       "      <td>0</td>\n",
       "      <td>1</td>\n",
       "    </tr>\n",
       "  </tbody>\n",
       "</table>\n",
       "</div>"
      ],
      "text/plain": [
       "   age     sex   bmi  children smoker     region  expenses  female  male\n",
       "0   19  female  27.9         0    yes  southwest  16884.92       1     0\n",
       "1   18    male  33.8         1     no  southeast   1725.55       0     1\n",
       "2   28    male  33.0         3     no  southeast   4449.46       0     1\n",
       "3   33    male  22.7         0     no  northwest  21984.47       0     1\n",
       "4   32    male  28.9         0     no  northwest   3866.86       0     1"
      ]
     },
     "execution_count": 42,
     "metadata": {},
     "output_type": "execute_result"
    }
   ],
   "source": [
    "merge = pd.concat([df,dummies],axis=1)\n",
    "merge.head()"
   ]
  },
  {
   "cell_type": "code",
   "execution_count": 43,
   "id": "863ea5e4",
   "metadata": {
    "colab": {
     "base_uri": "https://localhost:8080/",
     "height": 206
    },
    "executionInfo": {
     "elapsed": 8,
     "status": "ok",
     "timestamp": 1661675971459,
     "user": {
      "displayName": "Aakash Savant",
      "userId": "07526083973287864057"
     },
     "user_tz": -330
    },
    "id": "863ea5e4",
    "outputId": "da90c498-426d-4cb9-a8a3-a43e5a4585ac"
   },
   "outputs": [
    {
     "data": {
      "text/html": [
       "<div>\n",
       "<style scoped>\n",
       "    .dataframe tbody tr th:only-of-type {\n",
       "        vertical-align: middle;\n",
       "    }\n",
       "\n",
       "    .dataframe tbody tr th {\n",
       "        vertical-align: top;\n",
       "    }\n",
       "\n",
       "    .dataframe thead th {\n",
       "        text-align: right;\n",
       "    }\n",
       "</style>\n",
       "<table border=\"1\" class=\"dataframe\">\n",
       "  <thead>\n",
       "    <tr style=\"text-align: right;\">\n",
       "      <th></th>\n",
       "      <th>age</th>\n",
       "      <th>bmi</th>\n",
       "      <th>children</th>\n",
       "      <th>smoker</th>\n",
       "      <th>region</th>\n",
       "      <th>expenses</th>\n",
       "      <th>male</th>\n",
       "    </tr>\n",
       "  </thead>\n",
       "  <tbody>\n",
       "    <tr>\n",
       "      <th>0</th>\n",
       "      <td>19</td>\n",
       "      <td>27.9</td>\n",
       "      <td>0</td>\n",
       "      <td>yes</td>\n",
       "      <td>southwest</td>\n",
       "      <td>16884.92</td>\n",
       "      <td>0</td>\n",
       "    </tr>\n",
       "    <tr>\n",
       "      <th>1</th>\n",
       "      <td>18</td>\n",
       "      <td>33.8</td>\n",
       "      <td>1</td>\n",
       "      <td>no</td>\n",
       "      <td>southeast</td>\n",
       "      <td>1725.55</td>\n",
       "      <td>1</td>\n",
       "    </tr>\n",
       "    <tr>\n",
       "      <th>2</th>\n",
       "      <td>28</td>\n",
       "      <td>33.0</td>\n",
       "      <td>3</td>\n",
       "      <td>no</td>\n",
       "      <td>southeast</td>\n",
       "      <td>4449.46</td>\n",
       "      <td>1</td>\n",
       "    </tr>\n",
       "    <tr>\n",
       "      <th>3</th>\n",
       "      <td>33</td>\n",
       "      <td>22.7</td>\n",
       "      <td>0</td>\n",
       "      <td>no</td>\n",
       "      <td>northwest</td>\n",
       "      <td>21984.47</td>\n",
       "      <td>1</td>\n",
       "    </tr>\n",
       "    <tr>\n",
       "      <th>4</th>\n",
       "      <td>32</td>\n",
       "      <td>28.9</td>\n",
       "      <td>0</td>\n",
       "      <td>no</td>\n",
       "      <td>northwest</td>\n",
       "      <td>3866.86</td>\n",
       "      <td>1</td>\n",
       "    </tr>\n",
       "  </tbody>\n",
       "</table>\n",
       "</div>"
      ],
      "text/plain": [
       "   age   bmi  children smoker     region  expenses  male\n",
       "0   19  27.9         0    yes  southwest  16884.92     0\n",
       "1   18  33.8         1     no  southeast   1725.55     1\n",
       "2   28  33.0         3     no  southeast   4449.46     1\n",
       "3   33  22.7         0     no  northwest  21984.47     1\n",
       "4   32  28.9         0     no  northwest   3866.86     1"
      ]
     },
     "execution_count": 43,
     "metadata": {},
     "output_type": "execute_result"
    }
   ],
   "source": [
    "df1 = merge.drop(['sex','female'],axis=1)\n",
    "df1.head()"
   ]
  },
  {
   "cell_type": "code",
   "execution_count": 44,
   "id": "a18d7ee9",
   "metadata": {
    "colab": {
     "base_uri": "https://localhost:8080/",
     "height": 206
    },
    "executionInfo": {
     "elapsed": 399,
     "status": "ok",
     "timestamp": 1661675973501,
     "user": {
      "displayName": "Aakash Savant",
      "userId": "07526083973287864057"
     },
     "user_tz": -330
    },
    "id": "a18d7ee9",
    "outputId": "953248c8-664b-4040-f532-d920927b424c"
   },
   "outputs": [
    {
     "data": {
      "text/html": [
       "<div>\n",
       "<style scoped>\n",
       "    .dataframe tbody tr th:only-of-type {\n",
       "        vertical-align: middle;\n",
       "    }\n",
       "\n",
       "    .dataframe tbody tr th {\n",
       "        vertical-align: top;\n",
       "    }\n",
       "\n",
       "    .dataframe thead th {\n",
       "        text-align: right;\n",
       "    }\n",
       "</style>\n",
       "<table border=\"1\" class=\"dataframe\">\n",
       "  <thead>\n",
       "    <tr style=\"text-align: right;\">\n",
       "      <th></th>\n",
       "      <th>no</th>\n",
       "      <th>yes</th>\n",
       "    </tr>\n",
       "  </thead>\n",
       "  <tbody>\n",
       "    <tr>\n",
       "      <th>0</th>\n",
       "      <td>0</td>\n",
       "      <td>1</td>\n",
       "    </tr>\n",
       "    <tr>\n",
       "      <th>1</th>\n",
       "      <td>1</td>\n",
       "      <td>0</td>\n",
       "    </tr>\n",
       "    <tr>\n",
       "      <th>2</th>\n",
       "      <td>1</td>\n",
       "      <td>0</td>\n",
       "    </tr>\n",
       "    <tr>\n",
       "      <th>3</th>\n",
       "      <td>1</td>\n",
       "      <td>0</td>\n",
       "    </tr>\n",
       "    <tr>\n",
       "      <th>4</th>\n",
       "      <td>1</td>\n",
       "      <td>0</td>\n",
       "    </tr>\n",
       "  </tbody>\n",
       "</table>\n",
       "</div>"
      ],
      "text/plain": [
       "   no  yes\n",
       "0   0    1\n",
       "1   1    0\n",
       "2   1    0\n",
       "3   1    0\n",
       "4   1    0"
      ]
     },
     "execution_count": 44,
     "metadata": {},
     "output_type": "execute_result"
    }
   ],
   "source": [
    "dumi1 = pd.get_dummies(df1.smoker)\n",
    "dumi1.head()"
   ]
  },
  {
   "cell_type": "code",
   "execution_count": 45,
   "id": "622fe787",
   "metadata": {
    "colab": {
     "base_uri": "https://localhost:8080/",
     "height": 206
    },
    "executionInfo": {
     "elapsed": 6,
     "status": "ok",
     "timestamp": 1661675975049,
     "user": {
      "displayName": "Aakash Savant",
      "userId": "07526083973287864057"
     },
     "user_tz": -330
    },
    "id": "622fe787",
    "outputId": "efa96881-f1fc-425e-8768-95bd76c050c3"
   },
   "outputs": [
    {
     "data": {
      "text/html": [
       "<div>\n",
       "<style scoped>\n",
       "    .dataframe tbody tr th:only-of-type {\n",
       "        vertical-align: middle;\n",
       "    }\n",
       "\n",
       "    .dataframe tbody tr th {\n",
       "        vertical-align: top;\n",
       "    }\n",
       "\n",
       "    .dataframe thead th {\n",
       "        text-align: right;\n",
       "    }\n",
       "</style>\n",
       "<table border=\"1\" class=\"dataframe\">\n",
       "  <thead>\n",
       "    <tr style=\"text-align: right;\">\n",
       "      <th></th>\n",
       "      <th>age</th>\n",
       "      <th>bmi</th>\n",
       "      <th>children</th>\n",
       "      <th>region</th>\n",
       "      <th>expenses</th>\n",
       "      <th>male</th>\n",
       "      <th>yes</th>\n",
       "    </tr>\n",
       "  </thead>\n",
       "  <tbody>\n",
       "    <tr>\n",
       "      <th>0</th>\n",
       "      <td>19</td>\n",
       "      <td>27.9</td>\n",
       "      <td>0</td>\n",
       "      <td>southwest</td>\n",
       "      <td>16884.92</td>\n",
       "      <td>0</td>\n",
       "      <td>1</td>\n",
       "    </tr>\n",
       "    <tr>\n",
       "      <th>1</th>\n",
       "      <td>18</td>\n",
       "      <td>33.8</td>\n",
       "      <td>1</td>\n",
       "      <td>southeast</td>\n",
       "      <td>1725.55</td>\n",
       "      <td>1</td>\n",
       "      <td>0</td>\n",
       "    </tr>\n",
       "    <tr>\n",
       "      <th>2</th>\n",
       "      <td>28</td>\n",
       "      <td>33.0</td>\n",
       "      <td>3</td>\n",
       "      <td>southeast</td>\n",
       "      <td>4449.46</td>\n",
       "      <td>1</td>\n",
       "      <td>0</td>\n",
       "    </tr>\n",
       "    <tr>\n",
       "      <th>3</th>\n",
       "      <td>33</td>\n",
       "      <td>22.7</td>\n",
       "      <td>0</td>\n",
       "      <td>northwest</td>\n",
       "      <td>21984.47</td>\n",
       "      <td>1</td>\n",
       "      <td>0</td>\n",
       "    </tr>\n",
       "    <tr>\n",
       "      <th>4</th>\n",
       "      <td>32</td>\n",
       "      <td>28.9</td>\n",
       "      <td>0</td>\n",
       "      <td>northwest</td>\n",
       "      <td>3866.86</td>\n",
       "      <td>1</td>\n",
       "      <td>0</td>\n",
       "    </tr>\n",
       "  </tbody>\n",
       "</table>\n",
       "</div>"
      ],
      "text/plain": [
       "   age   bmi  children     region  expenses  male  yes\n",
       "0   19  27.9         0  southwest  16884.92     0    1\n",
       "1   18  33.8         1  southeast   1725.55     1    0\n",
       "2   28  33.0         3  southeast   4449.46     1    0\n",
       "3   33  22.7         0  northwest  21984.47     1    0\n",
       "4   32  28.9         0  northwest   3866.86     1    0"
      ]
     },
     "execution_count": 45,
     "metadata": {},
     "output_type": "execute_result"
    }
   ],
   "source": [
    "merge1 = pd.concat([df1,dumi1],axis=1)\n",
    "df2 = merge1.drop(['smoker','no'],axis=1)\n",
    "df2.head()"
   ]
  },
  {
   "cell_type": "code",
   "execution_count": 46,
   "id": "564dce8b",
   "metadata": {
    "colab": {
     "base_uri": "https://localhost:8080/",
     "height": 206
    },
    "executionInfo": {
     "elapsed": 36,
     "status": "ok",
     "timestamp": 1661675976663,
     "user": {
      "displayName": "Aakash Savant",
      "userId": "07526083973287864057"
     },
     "user_tz": -330
    },
    "id": "564dce8b",
    "outputId": "64d2c9c0-6152-45d1-d77c-e86d71de7f61"
   },
   "outputs": [
    {
     "data": {
      "text/html": [
       "<div>\n",
       "<style scoped>\n",
       "    .dataframe tbody tr th:only-of-type {\n",
       "        vertical-align: middle;\n",
       "    }\n",
       "\n",
       "    .dataframe tbody tr th {\n",
       "        vertical-align: top;\n",
       "    }\n",
       "\n",
       "    .dataframe thead th {\n",
       "        text-align: right;\n",
       "    }\n",
       "</style>\n",
       "<table border=\"1\" class=\"dataframe\">\n",
       "  <thead>\n",
       "    <tr style=\"text-align: right;\">\n",
       "      <th></th>\n",
       "      <th>northeast</th>\n",
       "      <th>northwest</th>\n",
       "      <th>southeast</th>\n",
       "      <th>southwest</th>\n",
       "    </tr>\n",
       "  </thead>\n",
       "  <tbody>\n",
       "    <tr>\n",
       "      <th>0</th>\n",
       "      <td>0</td>\n",
       "      <td>0</td>\n",
       "      <td>0</td>\n",
       "      <td>1</td>\n",
       "    </tr>\n",
       "    <tr>\n",
       "      <th>1</th>\n",
       "      <td>0</td>\n",
       "      <td>0</td>\n",
       "      <td>1</td>\n",
       "      <td>0</td>\n",
       "    </tr>\n",
       "    <tr>\n",
       "      <th>2</th>\n",
       "      <td>0</td>\n",
       "      <td>0</td>\n",
       "      <td>1</td>\n",
       "      <td>0</td>\n",
       "    </tr>\n",
       "    <tr>\n",
       "      <th>3</th>\n",
       "      <td>0</td>\n",
       "      <td>1</td>\n",
       "      <td>0</td>\n",
       "      <td>0</td>\n",
       "    </tr>\n",
       "    <tr>\n",
       "      <th>4</th>\n",
       "      <td>0</td>\n",
       "      <td>1</td>\n",
       "      <td>0</td>\n",
       "      <td>0</td>\n",
       "    </tr>\n",
       "  </tbody>\n",
       "</table>\n",
       "</div>"
      ],
      "text/plain": [
       "   northeast  northwest  southeast  southwest\n",
       "0          0          0          0          1\n",
       "1          0          0          1          0\n",
       "2          0          0          1          0\n",
       "3          0          1          0          0\n",
       "4          0          1          0          0"
      ]
     },
     "execution_count": 46,
     "metadata": {},
     "output_type": "execute_result"
    }
   ],
   "source": [
    "dummi2=pd.get_dummies(df2.region)\n",
    "dummi2.head()"
   ]
  },
  {
   "cell_type": "code",
   "execution_count": 47,
   "id": "8c5bca67",
   "metadata": {
    "colab": {
     "base_uri": "https://localhost:8080/",
     "height": 206
    },
    "executionInfo": {
     "elapsed": 15,
     "status": "ok",
     "timestamp": 1661675978431,
     "user": {
      "displayName": "Aakash Savant",
      "userId": "07526083973287864057"
     },
     "user_tz": -330
    },
    "id": "8c5bca67",
    "outputId": "d73300ec-8f67-4a7c-b7aa-5dadb126d11e"
   },
   "outputs": [
    {
     "data": {
      "text/html": [
       "<div>\n",
       "<style scoped>\n",
       "    .dataframe tbody tr th:only-of-type {\n",
       "        vertical-align: middle;\n",
       "    }\n",
       "\n",
       "    .dataframe tbody tr th {\n",
       "        vertical-align: top;\n",
       "    }\n",
       "\n",
       "    .dataframe thead th {\n",
       "        text-align: right;\n",
       "    }\n",
       "</style>\n",
       "<table border=\"1\" class=\"dataframe\">\n",
       "  <thead>\n",
       "    <tr style=\"text-align: right;\">\n",
       "      <th></th>\n",
       "      <th>age</th>\n",
       "      <th>bmi</th>\n",
       "      <th>children</th>\n",
       "      <th>region</th>\n",
       "      <th>expenses</th>\n",
       "      <th>male</th>\n",
       "      <th>yes</th>\n",
       "      <th>northeast</th>\n",
       "      <th>northwest</th>\n",
       "      <th>southeast</th>\n",
       "      <th>southwest</th>\n",
       "    </tr>\n",
       "  </thead>\n",
       "  <tbody>\n",
       "    <tr>\n",
       "      <th>0</th>\n",
       "      <td>19</td>\n",
       "      <td>27.9</td>\n",
       "      <td>0</td>\n",
       "      <td>southwest</td>\n",
       "      <td>16884.92</td>\n",
       "      <td>0</td>\n",
       "      <td>1</td>\n",
       "      <td>0</td>\n",
       "      <td>0</td>\n",
       "      <td>0</td>\n",
       "      <td>1</td>\n",
       "    </tr>\n",
       "    <tr>\n",
       "      <th>1</th>\n",
       "      <td>18</td>\n",
       "      <td>33.8</td>\n",
       "      <td>1</td>\n",
       "      <td>southeast</td>\n",
       "      <td>1725.55</td>\n",
       "      <td>1</td>\n",
       "      <td>0</td>\n",
       "      <td>0</td>\n",
       "      <td>0</td>\n",
       "      <td>1</td>\n",
       "      <td>0</td>\n",
       "    </tr>\n",
       "    <tr>\n",
       "      <th>2</th>\n",
       "      <td>28</td>\n",
       "      <td>33.0</td>\n",
       "      <td>3</td>\n",
       "      <td>southeast</td>\n",
       "      <td>4449.46</td>\n",
       "      <td>1</td>\n",
       "      <td>0</td>\n",
       "      <td>0</td>\n",
       "      <td>0</td>\n",
       "      <td>1</td>\n",
       "      <td>0</td>\n",
       "    </tr>\n",
       "    <tr>\n",
       "      <th>3</th>\n",
       "      <td>33</td>\n",
       "      <td>22.7</td>\n",
       "      <td>0</td>\n",
       "      <td>northwest</td>\n",
       "      <td>21984.47</td>\n",
       "      <td>1</td>\n",
       "      <td>0</td>\n",
       "      <td>0</td>\n",
       "      <td>1</td>\n",
       "      <td>0</td>\n",
       "      <td>0</td>\n",
       "    </tr>\n",
       "    <tr>\n",
       "      <th>4</th>\n",
       "      <td>32</td>\n",
       "      <td>28.9</td>\n",
       "      <td>0</td>\n",
       "      <td>northwest</td>\n",
       "      <td>3866.86</td>\n",
       "      <td>1</td>\n",
       "      <td>0</td>\n",
       "      <td>0</td>\n",
       "      <td>1</td>\n",
       "      <td>0</td>\n",
       "      <td>0</td>\n",
       "    </tr>\n",
       "  </tbody>\n",
       "</table>\n",
       "</div>"
      ],
      "text/plain": [
       "   age   bmi  children     region  expenses  male  yes  northeast  northwest  \\\n",
       "0   19  27.9         0  southwest  16884.92     0    1          0          0   \n",
       "1   18  33.8         1  southeast   1725.55     1    0          0          0   \n",
       "2   28  33.0         3  southeast   4449.46     1    0          0          0   \n",
       "3   33  22.7         0  northwest  21984.47     1    0          0          1   \n",
       "4   32  28.9         0  northwest   3866.86     1    0          0          1   \n",
       "\n",
       "   southeast  southwest  \n",
       "0          0          1  \n",
       "1          1          0  \n",
       "2          1          0  \n",
       "3          0          0  \n",
       "4          0          0  "
      ]
     },
     "execution_count": 47,
     "metadata": {},
     "output_type": "execute_result"
    }
   ],
   "source": [
    "merge2 = pd.concat([df2,dummi2],axis=1)\n",
    "merge2.head()"
   ]
  },
  {
   "cell_type": "code",
   "execution_count": 48,
   "id": "9d7d4310",
   "metadata": {
    "colab": {
     "base_uri": "https://localhost:8080/",
     "height": 206
    },
    "executionInfo": {
     "elapsed": 394,
     "status": "ok",
     "timestamp": 1661675983832,
     "user": {
      "displayName": "Aakash Savant",
      "userId": "07526083973287864057"
     },
     "user_tz": -330
    },
    "id": "9d7d4310",
    "outputId": "735e993f-e361-486e-d9dc-29a53a32b575"
   },
   "outputs": [
    {
     "data": {
      "text/html": [
       "<div>\n",
       "<style scoped>\n",
       "    .dataframe tbody tr th:only-of-type {\n",
       "        vertical-align: middle;\n",
       "    }\n",
       "\n",
       "    .dataframe tbody tr th {\n",
       "        vertical-align: top;\n",
       "    }\n",
       "\n",
       "    .dataframe thead th {\n",
       "        text-align: right;\n",
       "    }\n",
       "</style>\n",
       "<table border=\"1\" class=\"dataframe\">\n",
       "  <thead>\n",
       "    <tr style=\"text-align: right;\">\n",
       "      <th></th>\n",
       "      <th>age</th>\n",
       "      <th>bmi</th>\n",
       "      <th>children</th>\n",
       "      <th>expenses</th>\n",
       "      <th>male</th>\n",
       "      <th>yes</th>\n",
       "      <th>northwest</th>\n",
       "      <th>southeast</th>\n",
       "      <th>southwest</th>\n",
       "    </tr>\n",
       "  </thead>\n",
       "  <tbody>\n",
       "    <tr>\n",
       "      <th>0</th>\n",
       "      <td>19</td>\n",
       "      <td>27.9</td>\n",
       "      <td>0</td>\n",
       "      <td>16884.92</td>\n",
       "      <td>0</td>\n",
       "      <td>1</td>\n",
       "      <td>0</td>\n",
       "      <td>0</td>\n",
       "      <td>1</td>\n",
       "    </tr>\n",
       "    <tr>\n",
       "      <th>1</th>\n",
       "      <td>18</td>\n",
       "      <td>33.8</td>\n",
       "      <td>1</td>\n",
       "      <td>1725.55</td>\n",
       "      <td>1</td>\n",
       "      <td>0</td>\n",
       "      <td>0</td>\n",
       "      <td>1</td>\n",
       "      <td>0</td>\n",
       "    </tr>\n",
       "    <tr>\n",
       "      <th>2</th>\n",
       "      <td>28</td>\n",
       "      <td>33.0</td>\n",
       "      <td>3</td>\n",
       "      <td>4449.46</td>\n",
       "      <td>1</td>\n",
       "      <td>0</td>\n",
       "      <td>0</td>\n",
       "      <td>1</td>\n",
       "      <td>0</td>\n",
       "    </tr>\n",
       "    <tr>\n",
       "      <th>3</th>\n",
       "      <td>33</td>\n",
       "      <td>22.7</td>\n",
       "      <td>0</td>\n",
       "      <td>21984.47</td>\n",
       "      <td>1</td>\n",
       "      <td>0</td>\n",
       "      <td>1</td>\n",
       "      <td>0</td>\n",
       "      <td>0</td>\n",
       "    </tr>\n",
       "    <tr>\n",
       "      <th>4</th>\n",
       "      <td>32</td>\n",
       "      <td>28.9</td>\n",
       "      <td>0</td>\n",
       "      <td>3866.86</td>\n",
       "      <td>1</td>\n",
       "      <td>0</td>\n",
       "      <td>1</td>\n",
       "      <td>0</td>\n",
       "      <td>0</td>\n",
       "    </tr>\n",
       "  </tbody>\n",
       "</table>\n",
       "</div>"
      ],
      "text/plain": [
       "   age   bmi  children  expenses  male  yes  northwest  southeast  southwest\n",
       "0   19  27.9         0  16884.92     0    1          0          0          1\n",
       "1   18  33.8         1   1725.55     1    0          0          1          0\n",
       "2   28  33.0         3   4449.46     1    0          0          1          0\n",
       "3   33  22.7         0  21984.47     1    0          1          0          0\n",
       "4   32  28.9         0   3866.86     1    0          1          0          0"
      ]
     },
     "execution_count": 48,
     "metadata": {},
     "output_type": "execute_result"
    }
   ],
   "source": [
    "df3 = merge2.drop(['region','northeast'],axis=1)\n",
    "df3.head()"
   ]
  },
  {
   "cell_type": "code",
   "execution_count": 49,
   "id": "65a44843",
   "metadata": {
    "colab": {
     "base_uri": "https://localhost:8080/"
    },
    "executionInfo": {
     "elapsed": 11,
     "status": "ok",
     "timestamp": 1661675985226,
     "user": {
      "displayName": "Aakash Savant",
      "userId": "07526083973287864057"
     },
     "user_tz": -330
    },
    "id": "65a44843",
    "outputId": "805c3401-e44e-4b2b-8bde-7e2b42a8d260"
   },
   "outputs": [
    {
     "data": {
      "text/plain": [
       "(1337, 9)"
      ]
     },
     "execution_count": 49,
     "metadata": {},
     "output_type": "execute_result"
    }
   ],
   "source": [
    "df3.shape"
   ]
  },
  {
   "cell_type": "markdown",
   "id": "c23b2739",
   "metadata": {},
   "source": [
    "### Let's saperate target feature"
   ]
  },
  {
   "cell_type": "code",
   "execution_count": 51,
   "id": "fbd22e6a",
   "metadata": {
    "executionInfo": {
     "elapsed": 492,
     "status": "ok",
     "timestamp": 1661675990652,
     "user": {
      "displayName": "Aakash Savant",
      "userId": "07526083973287864057"
     },
     "user_tz": -330
    },
    "id": "fbd22e6a"
   },
   "outputs": [],
   "source": [
    "target_name = 'expenses'\n",
    "y = df3[target_name]\n",
    "# Seperate object Input  feature \n",
    "X= df3.drop(target_name,axis=1)"
   ]
  },
  {
   "cell_type": "code",
   "execution_count": 52,
   "id": "e026d058",
   "metadata": {
    "colab": {
     "base_uri": "https://localhost:8080/"
    },
    "executionInfo": {
     "elapsed": 19,
     "status": "ok",
     "timestamp": 1661675993378,
     "user": {
      "displayName": "Aakash Savant",
      "userId": "07526083973287864057"
     },
     "user_tz": -330
    },
    "id": "e026d058",
    "outputId": "3f4d477b-2321-4915-a3da-d547aaa58403"
   },
   "outputs": [
    {
     "data": {
      "text/plain": [
       "(1337, 8)"
      ]
     },
     "execution_count": 52,
     "metadata": {},
     "output_type": "execute_result"
    }
   ],
   "source": [
    "X.shape"
   ]
  },
  {
   "cell_type": "code",
   "execution_count": 53,
   "id": "ccbf7fba",
   "metadata": {
    "colab": {
     "base_uri": "https://localhost:8080/"
    },
    "executionInfo": {
     "elapsed": 543,
     "status": "ok",
     "timestamp": 1661675996585,
     "user": {
      "displayName": "Aakash Savant",
      "userId": "07526083973287864057"
     },
     "user_tz": -330
    },
    "id": "ccbf7fba",
    "outputId": "bc869ed1-a93c-4d18-fa4c-4889cb8f57c1"
   },
   "outputs": [
    {
     "data": {
      "text/plain": [
       "0    16884.92\n",
       "1     1725.55\n",
       "2     4449.46\n",
       "3    21984.47\n",
       "4     3866.86\n",
       "Name: expenses, dtype: float64"
      ]
     },
     "execution_count": 53,
     "metadata": {},
     "output_type": "execute_result"
    }
   ],
   "source": [
    "y.head()"
   ]
  },
  {
   "cell_type": "markdown",
   "id": "4bd52b85",
   "metadata": {
    "id": "4bd52b85"
   },
   "source": [
    "## Train-Test Split\n",
    "\n",
    "We will use sklearn library to perform Machiene learning algorithms"
   ]
  },
  {
   "cell_type": "code",
   "execution_count": 55,
   "id": "bc5c94b6",
   "metadata": {
    "executionInfo": {
     "elapsed": 637,
     "status": "ok",
     "timestamp": 1661676003183,
     "user": {
      "displayName": "Aakash Savant",
      "userId": "07526083973287864057"
     },
     "user_tz": -330
    },
    "id": "bc5c94b6"
   },
   "outputs": [],
   "source": [
    "from sklearn.model_selection import train_test_split\n",
    "X_train,X_test,y_train,y_test = train_test_split(X,y,test_size=0.2,random_state=7)"
   ]
  },
  {
   "cell_type": "code",
   "execution_count": 56,
   "id": "d4723f7e",
   "metadata": {
    "colab": {
     "base_uri": "https://localhost:8080/"
    },
    "executionInfo": {
     "elapsed": 4,
     "status": "ok",
     "timestamp": 1661676004964,
     "user": {
      "displayName": "Aakash Savant",
      "userId": "07526083973287864057"
     },
     "user_tz": -330
    },
    "id": "d4723f7e",
    "outputId": "36617e49-fd8b-4d26-e153-78bc18aef4cb"
   },
   "outputs": [
    {
     "data": {
      "text/plain": [
       "((1069, 8), (1069,))"
      ]
     },
     "execution_count": 56,
     "metadata": {},
     "output_type": "execute_result"
    }
   ],
   "source": [
    "X_train.shape,y_train.shape"
   ]
  },
  {
   "cell_type": "code",
   "execution_count": 57,
   "id": "99e3ad5a",
   "metadata": {
    "colab": {
     "base_uri": "https://localhost:8080/"
    },
    "executionInfo": {
     "elapsed": 379,
     "status": "ok",
     "timestamp": 1661676008058,
     "user": {
      "displayName": "Aakash Savant",
      "userId": "07526083973287864057"
     },
     "user_tz": -330
    },
    "id": "99e3ad5a",
    "outputId": "334d2158-2496-4244-8958-b90e71fc8fdf"
   },
   "outputs": [
    {
     "data": {
      "text/plain": [
       "((268, 8), (268,))"
      ]
     },
     "execution_count": 57,
     "metadata": {},
     "output_type": "execute_result"
    }
   ],
   "source": [
    "X_test.shape,y_test.shape"
   ]
  },
  {
   "cell_type": "markdown",
   "id": "2783a277",
   "metadata": {
    "id": "2783a277"
   },
   "source": [
    "## Building Linear Regression Algorithm"
   ]
  },
  {
   "cell_type": "code",
   "execution_count": 58,
   "id": "80768ab8",
   "metadata": {
    "executionInfo": {
     "elapsed": 1027,
     "status": "ok",
     "timestamp": 1661676014514,
     "user": {
      "displayName": "Aakash Savant",
      "userId": "07526083973287864057"
     },
     "user_tz": -330
    },
    "id": "80768ab8"
   },
   "outputs": [],
   "source": [
    "from sklearn.linear_model import LinearRegression\n",
    "# Creating an Object \n",
    "lr = LinearRegression()\n",
    "\n",
    "lr.fit(X_train,y_train)\n",
    "y_pred = lr.predict(X_test)"
   ]
  },
  {
   "cell_type": "markdown",
   "id": "d41ec02c",
   "metadata": {
    "id": "d41ec02c"
   },
   "source": [
    "### Evaluation Metrics"
   ]
  },
  {
   "cell_type": "code",
   "execution_count": 59,
   "id": "0132f69b",
   "metadata": {
    "colab": {
     "base_uri": "https://localhost:8080/"
    },
    "executionInfo": {
     "elapsed": 369,
     "status": "ok",
     "timestamp": 1661676021565,
     "user": {
      "displayName": "Aakash Savant",
      "userId": "07526083973287864057"
     },
     "user_tz": -330
    },
    "id": "0132f69b",
    "outputId": "b6ffbde3-a047-41ef-9436-1ba1e726286f"
   },
   "outputs": [
    {
     "name": "stdout",
     "output_type": "stream",
     "text": [
      "Train_score 0.7529469407973212\n"
     ]
    }
   ],
   "source": [
    "train_score = lr.score(X_train,y_train)\n",
    "print('Train_score',train_score)"
   ]
  },
  {
   "cell_type": "code",
   "execution_count": 60,
   "id": "94904db3",
   "metadata": {
    "colab": {
     "base_uri": "https://localhost:8080/"
    },
    "executionInfo": {
     "elapsed": 503,
     "status": "ok",
     "timestamp": 1661676025252,
     "user": {
      "displayName": "Aakash Savant",
      "userId": "07526083973287864057"
     },
     "user_tz": -330
    },
    "id": "94904db3",
    "outputId": "569b418b-faf8-4537-fd57-58855763b0f4"
   },
   "outputs": [
    {
     "name": "stdout",
     "output_type": "stream",
     "text": [
      "r_2 Score 0.7405436314738476\n"
     ]
    }
   ],
   "source": [
    "from sklearn.metrics import r2_score\n",
    "score = r2_score(y_test,y_pred)\n",
    "\n",
    "print(\"r_2 Score\",score)"
   ]
  },
  {
   "cell_type": "code",
   "execution_count": 61,
   "id": "dbb01ee9",
   "metadata": {
    "colab": {
     "base_uri": "https://localhost:8080/"
    },
    "executionInfo": {
     "elapsed": 387,
     "status": "ok",
     "timestamp": 1661676028744,
     "user": {
      "displayName": "Aakash Savant",
      "userId": "07526083973287864057"
     },
     "user_tz": -330
    },
    "id": "dbb01ee9",
    "outputId": "1c679486-ccfa-44e0-c706-df83e6fd355b"
   },
   "outputs": [
    {
     "name": "stdout",
     "output_type": "stream",
     "text": [
      "Mean Absolute  Error 4393.838937013879\n",
      "Mean Squared Error 41911806.98078472\n",
      "Root Mean Square Error 66.28603877902103\n"
     ]
    }
   ],
   "source": [
    "from sklearn import metrics\n",
    "\n",
    "print(\"Mean Absolute  Error\",metrics.mean_absolute_error(y_test,y_pred))\n",
    "print(\"Mean Squared Error\",metrics.mean_squared_error(y_test,y_pred))\n",
    "print(\"Root Mean Square Error\",np.sqrt(metrics.mean_absolute_error(y_test,y_pred)))"
   ]
  },
  {
   "cell_type": "code",
   "execution_count": 63,
   "id": "c2885ff2",
   "metadata": {
    "colab": {
     "base_uri": "https://localhost:8080/",
     "height": 206
    },
    "executionInfo": {
     "elapsed": 597,
     "status": "ok",
     "timestamp": 1661676034361,
     "user": {
      "displayName": "Aakash Savant",
      "userId": "07526083973287864057"
     },
     "user_tz": -330
    },
    "id": "c2885ff2",
    "outputId": "484d3b5e-29e5-4d43-fead-07772dadf58d"
   },
   "outputs": [
    {
     "data": {
      "text/html": [
       "<div>\n",
       "<style scoped>\n",
       "    .dataframe tbody tr th:only-of-type {\n",
       "        vertical-align: middle;\n",
       "    }\n",
       "\n",
       "    .dataframe tbody tr th {\n",
       "        vertical-align: top;\n",
       "    }\n",
       "\n",
       "    .dataframe thead th {\n",
       "        text-align: right;\n",
       "    }\n",
       "</style>\n",
       "<table border=\"1\" class=\"dataframe\">\n",
       "  <thead>\n",
       "    <tr style=\"text-align: right;\">\n",
       "      <th></th>\n",
       "      <th>Actual</th>\n",
       "      <th>predicted</th>\n",
       "      <th>variance</th>\n",
       "    </tr>\n",
       "  </thead>\n",
       "  <tbody>\n",
       "    <tr>\n",
       "      <th>13</th>\n",
       "      <td>11090.72</td>\n",
       "      <td>14428.920783</td>\n",
       "      <td>-3338.200783</td>\n",
       "    </tr>\n",
       "    <tr>\n",
       "      <th>1052</th>\n",
       "      <td>9288.03</td>\n",
       "      <td>11290.895725</td>\n",
       "      <td>-2002.865725</td>\n",
       "    </tr>\n",
       "    <tr>\n",
       "      <th>172</th>\n",
       "      <td>1694.80</td>\n",
       "      <td>-1768.263286</td>\n",
       "      <td>3463.063286</td>\n",
       "    </tr>\n",
       "    <tr>\n",
       "      <th>395</th>\n",
       "      <td>7526.71</td>\n",
       "      <td>5781.158123</td>\n",
       "      <td>1745.551877</td>\n",
       "    </tr>\n",
       "    <tr>\n",
       "      <th>934</th>\n",
       "      <td>4673.39</td>\n",
       "      <td>8475.161731</td>\n",
       "      <td>-3801.771731</td>\n",
       "    </tr>\n",
       "    <tr>\n",
       "      <th>751</th>\n",
       "      <td>1906.36</td>\n",
       "      <td>2511.819820</td>\n",
       "      <td>-605.459820</td>\n",
       "    </tr>\n",
       "    <tr>\n",
       "      <th>99</th>\n",
       "      <td>15820.70</td>\n",
       "      <td>27026.814250</td>\n",
       "      <td>-11206.114250</td>\n",
       "    </tr>\n",
       "    <tr>\n",
       "      <th>779</th>\n",
       "      <td>9869.81</td>\n",
       "      <td>10599.598633</td>\n",
       "      <td>-729.788633</td>\n",
       "    </tr>\n",
       "    <tr>\n",
       "      <th>108</th>\n",
       "      <td>2867.12</td>\n",
       "      <td>3516.087368</td>\n",
       "      <td>-648.967368</td>\n",
       "    </tr>\n",
       "    <tr>\n",
       "      <th>1103</th>\n",
       "      <td>11363.28</td>\n",
       "      <td>13647.725863</td>\n",
       "      <td>-2284.445863</td>\n",
       "    </tr>\n",
       "  </tbody>\n",
       "</table>\n",
       "</div>"
      ],
      "text/plain": [
       "        Actual     predicted      variance\n",
       "13    11090.72  14428.920783  -3338.200783\n",
       "1052   9288.03  11290.895725  -2002.865725\n",
       "172    1694.80  -1768.263286   3463.063286\n",
       "395    7526.71   5781.158123   1745.551877\n",
       "934    4673.39   8475.161731  -3801.771731\n",
       "751    1906.36   2511.819820   -605.459820\n",
       "99    15820.70  27026.814250 -11206.114250\n",
       "779    9869.81  10599.598633   -729.788633\n",
       "108    2867.12   3516.087368   -648.967368\n",
       "1103  11363.28  13647.725863  -2284.445863"
      ]
     },
     "execution_count": 63,
     "metadata": {},
     "output_type": "execute_result"
    }
   ],
   "source": [
    "df4 = pd.DataFrame({'Actual':y_test,'predicted':y_pred,'variance':y_test-y_pred})\n",
    "df4.head(10)"
   ]
  },
  {
   "cell_type": "code",
   "execution_count": 66,
   "id": "e90bfedd",
   "metadata": {
    "colab": {
     "base_uri": "https://localhost:8080/"
    },
    "executionInfo": {
     "elapsed": 596,
     "status": "ok",
     "timestamp": 1661676043300,
     "user": {
      "displayName": "Aakash Savant",
      "userId": "07526083973287864057"
     },
     "user_tz": -330
    },
    "id": "e90bfedd",
    "outputId": "4f7179cb-b508-4ddf-bf49-1696669d7512"
   },
   "outputs": [
    {
     "name": "stderr",
     "output_type": "stream",
     "text": [
      "/Users/pavansaish/opt/anaconda3/lib/python3.9/site-packages/sklearn/base.py:450: UserWarning: X does not have valid feature names, but LinearRegression was fitted with feature names\n",
      "  warnings.warn(\n"
     ]
    },
    {
     "data": {
      "text/plain": [
       "array([14428.92078333])"
      ]
     },
     "execution_count": 66,
     "metadata": {},
     "output_type": "execute_result"
    }
   ],
   "source": [
    "lr.predict([[56,39.8,0,0,0,0,1,0]])"
   ]
  },
  {
   "cell_type": "code",
   "execution_count": 261,
   "id": "79e54444",
   "metadata": {
    "colab": {
     "base_uri": "https://localhost:8080/"
    },
    "executionInfo": {
     "elapsed": 24,
     "status": "ok",
     "timestamp": 1661676046768,
     "user": {
      "displayName": "Aakash Savant",
      "userId": "07526083973287864057"
     },
     "user_tz": -330
    },
    "id": "79e54444",
    "outputId": "0d2c5f15-e0df-46f6-df54-6612a798e4ff"
   },
   "outputs": [
    {
     "name": "stdout",
     "output_type": "stream",
     "text": [
      "Intercept -11706.11877378776\n"
     ]
    }
   ],
   "source": [
    "print(\"Intercept\",lr.intercept_)"
   ]
  },
  {
   "cell_type": "code",
   "execution_count": 262,
   "id": "4f36bce4",
   "metadata": {
    "colab": {
     "base_uri": "https://localhost:8080/"
    },
    "executionInfo": {
     "elapsed": 25,
     "status": "ok",
     "timestamp": 1661676049280,
     "user": {
      "displayName": "Aakash Savant",
      "userId": "07526083973287864057"
     },
     "user_tz": -330
    },
    "id": "4f36bce4",
    "outputId": "0e918559-4183-4a46-ba45-5a51bfd82994"
   },
   "outputs": [
    {
     "name": "stdout",
     "output_type": "stream",
     "text": [
      "coeffiecients [  253.79928425   337.98283552   527.21806988   -38.25699752\n",
      " 23727.96144273  -875.09160778 -1529.43721458 -1124.21294814]\n"
     ]
    }
   ],
   "source": [
    "print(\"coeffiecients\",lr.coef_)"
   ]
  },
  {
   "cell_type": "markdown",
   "id": "cc7c7958",
   "metadata": {
    "id": "cc7c7958"
   },
   "source": [
    "## Feature Selection\n",
    "\n",
    "Using Feature Selection method: I. Helps in faster training time. II. Improves performance and Accuracy\n",
    "III. Reduce Bias-Variance issues (Over.Fitting)\n",
    "\n",
    "## There are many kinds of feature selection methods\n",
    "\n",
    "            1) Forward Selection\n",
    "\n",
    "            2) Recursive Faeture Elimination \n",
    "\n",
    "            3) Backward Elimination\n",
    "            \n",
    "Backward Elimination Method is widely used and let's use it"
   ]
  },
  {
   "cell_type": "markdown",
   "id": "52f2eb71",
   "metadata": {
    "id": "52f2eb71"
   },
   "source": [
    "## Backward Elimination Method Procedure\n",
    "\n",
    "\n",
    "### Step 1: \n",
    "First Step in  backward elimination is select a significance level or Select P-value.\n",
    "\n",
    "Usually in most cases 5% Significance level is selected. That means  P-value will be 0.5 you can change this value depends on the project\n",
    "\n",
    "\n",
    "### Step 2:\n",
    "\n",
    "Second Step is <b> Fit your machine learning model with all features selected </b>\n",
    "\n",
    "\n",
    "### Step 3\n",
    "\n",
    "In Step 3, Identify feature which has highest P-value\n",
    "\n",
    "\n",
    "### Step 4\n",
    "\n",
    "Main Step\n",
    "\n",
    "- if P-Value is greater than significance level - we selected and remove this feature from our dataset\n",
    "- if P-valie is less than Significance Level  we just jump to Step 6 which means that we are done\n",
    "\n",
    "### Step 5\n",
    "\n",
    "Once we find out feature  which has to be removd from our dataset  we will fir the model again  with new dataset After fitting a model with new dataset  we will jump back to step 3:\n",
    "\n",
    "This Process will continue untill we reach a point  in step 4 where  highest P-Value  from all remaining features  in datset is  less than significance level selected step 1: \n",
    "\n",
    "\n",
    "In our Example this means iterate  from step 3 to Step 5 and back till  highest P-Value  in dataset is less than 0.05\n",
    "Out of 50 asssumed features   we might filter out  good 10 features\n",
    "\n",
    "### Step 6\n",
    "\n",
    "Once We reach Step 6 We are done  with Feature Selection process we have Sucessfully used Backward Elimination Method"
   ]
  },
  {
   "cell_type": "code",
   "execution_count": 67,
   "id": "7efc5fb7",
   "metadata": {
    "executionInfo": {
     "elapsed": 1125,
     "status": "ok",
     "timestamp": 1661676065514,
     "user": {
      "displayName": "Aakash Savant",
      "userId": "07526083973287864057"
     },
     "user_tz": -330
    },
    "id": "7efc5fb7"
   },
   "outputs": [],
   "source": [
    "import statsmodels.api as sm"
   ]
  },
  {
   "cell_type": "code",
   "execution_count": 68,
   "id": "0797219a",
   "metadata": {
    "colab": {
     "base_uri": "https://localhost:8080/",
     "height": 206
    },
    "executionInfo": {
     "elapsed": 531,
     "status": "ok",
     "timestamp": 1661676067895,
     "user": {
      "displayName": "Aakash Savant",
      "userId": "07526083973287864057"
     },
     "user_tz": -330
    },
    "id": "0797219a",
    "outputId": "e7447f2c-0ed3-4465-e038-d2463fbc9385"
   },
   "outputs": [
    {
     "data": {
      "text/html": [
       "<div>\n",
       "<style scoped>\n",
       "    .dataframe tbody tr th:only-of-type {\n",
       "        vertical-align: middle;\n",
       "    }\n",
       "\n",
       "    .dataframe tbody tr th {\n",
       "        vertical-align: top;\n",
       "    }\n",
       "\n",
       "    .dataframe thead th {\n",
       "        text-align: right;\n",
       "    }\n",
       "</style>\n",
       "<table border=\"1\" class=\"dataframe\">\n",
       "  <thead>\n",
       "    <tr style=\"text-align: right;\">\n",
       "      <th></th>\n",
       "      <th>age</th>\n",
       "      <th>bmi</th>\n",
       "      <th>children</th>\n",
       "      <th>male</th>\n",
       "      <th>yes</th>\n",
       "      <th>northwest</th>\n",
       "      <th>southeast</th>\n",
       "      <th>southwest</th>\n",
       "    </tr>\n",
       "  </thead>\n",
       "  <tbody>\n",
       "    <tr>\n",
       "      <th>0</th>\n",
       "      <td>19</td>\n",
       "      <td>27.9</td>\n",
       "      <td>0</td>\n",
       "      <td>0</td>\n",
       "      <td>1</td>\n",
       "      <td>0</td>\n",
       "      <td>0</td>\n",
       "      <td>1</td>\n",
       "    </tr>\n",
       "    <tr>\n",
       "      <th>1</th>\n",
       "      <td>18</td>\n",
       "      <td>33.8</td>\n",
       "      <td>1</td>\n",
       "      <td>1</td>\n",
       "      <td>0</td>\n",
       "      <td>0</td>\n",
       "      <td>1</td>\n",
       "      <td>0</td>\n",
       "    </tr>\n",
       "    <tr>\n",
       "      <th>2</th>\n",
       "      <td>28</td>\n",
       "      <td>33.0</td>\n",
       "      <td>3</td>\n",
       "      <td>1</td>\n",
       "      <td>0</td>\n",
       "      <td>0</td>\n",
       "      <td>1</td>\n",
       "      <td>0</td>\n",
       "    </tr>\n",
       "    <tr>\n",
       "      <th>3</th>\n",
       "      <td>33</td>\n",
       "      <td>22.7</td>\n",
       "      <td>0</td>\n",
       "      <td>1</td>\n",
       "      <td>0</td>\n",
       "      <td>1</td>\n",
       "      <td>0</td>\n",
       "      <td>0</td>\n",
       "    </tr>\n",
       "    <tr>\n",
       "      <th>4</th>\n",
       "      <td>32</td>\n",
       "      <td>28.9</td>\n",
       "      <td>0</td>\n",
       "      <td>1</td>\n",
       "      <td>0</td>\n",
       "      <td>1</td>\n",
       "      <td>0</td>\n",
       "      <td>0</td>\n",
       "    </tr>\n",
       "  </tbody>\n",
       "</table>\n",
       "</div>"
      ],
      "text/plain": [
       "   age   bmi  children  male  yes  northwest  southeast  southwest\n",
       "0   19  27.9         0     0    1          0          0          1\n",
       "1   18  33.8         1     1    0          0          1          0\n",
       "2   28  33.0         3     1    0          0          1          0\n",
       "3   33  22.7         0     1    0          1          0          0\n",
       "4   32  28.9         0     1    0          1          0          0"
      ]
     },
     "execution_count": 68,
     "metadata": {},
     "output_type": "execute_result"
    }
   ],
   "source": [
    "X.head()"
   ]
  },
  {
   "cell_type": "code",
   "execution_count": 266,
   "id": "fa2207f1",
   "metadata": {
    "colab": {
     "base_uri": "https://localhost:8080/"
    },
    "executionInfo": {
     "elapsed": 26,
     "status": "ok",
     "timestamp": 1661676069284,
     "user": {
      "displayName": "Aakash Savant",
      "userId": "07526083973287864057"
     },
     "user_tz": -330
    },
    "id": "fa2207f1",
    "outputId": "2e7a1f2b-3559-4f94-ab2b-417a59a8c647"
   },
   "outputs": [
    {
     "data": {
      "text/plain": [
       "(1337, 8)"
      ]
     },
     "execution_count": 266,
     "metadata": {},
     "output_type": "execute_result"
    }
   ],
   "source": [
    "X.shape"
   ]
  },
  {
   "cell_type": "markdown",
   "id": "9c9a05e6",
   "metadata": {
    "id": "9c9a05e6"
   },
   "source": [
    "Before We begin with Backward Elimination  we need  to append '1'  at begining of our datset now Why is Important ?\n",
    "\n",
    "Equation of line is y = b +m1x1 ;m2x2 +m3x3 +m4x4\n",
    "\n",
    "When we make  a linear model with sklearn , the <b> bias term is seperately calculated\n",
    "    \n",
    "    \n",
    "- However to perform Backward elimination  we have to use linear model provided  by statsmodel library  - Which doesnot consider bias term \n",
    "    \n",
    "- Hence by adding  a dummy feature with value as '1'  our equation comes out to be  like this :\n",
    "    \n",
    "    y = b*X0 + m1x1 + m2x2 +m3x3 + m4x4 where x0 =1  "
   ]
  },
  {
   "cell_type": "code",
   "execution_count": 267,
   "id": "70677a9c",
   "metadata": {
    "executionInfo": {
     "elapsed": 356,
     "status": "ok",
     "timestamp": 1661676074190,
     "user": {
      "displayName": "Aakash Savant",
      "userId": "07526083973287864057"
     },
     "user_tz": -330
    },
    "id": "70677a9c"
   },
   "outputs": [],
   "source": [
    "# adding a column of ones  as integer datatype\n",
    "\n",
    "# X1 = (1337,1)  + (1337,9)\n",
    "\n",
    "# Constant that is X1\n",
    "\n",
    "X1 = np.append(arr = np.ones((1337,1)).astype(int),values=X,axis=1)"
   ]
  },
  {
   "cell_type": "code",
   "execution_count": 268,
   "id": "bb047097",
   "metadata": {
    "colab": {
     "base_uri": "https://localhost:8080/",
     "height": 206
    },
    "executionInfo": {
     "elapsed": 369,
     "status": "ok",
     "timestamp": 1661676079280,
     "user": {
      "displayName": "Aakash Savant",
      "userId": "07526083973287864057"
     },
     "user_tz": -330
    },
    "id": "bb047097",
    "outputId": "c401d50d-4db9-4955-84ea-75f0eecc9fb7"
   },
   "outputs": [
    {
     "data": {
      "text/html": [
       "<div>\n",
       "<style scoped>\n",
       "    .dataframe tbody tr th:only-of-type {\n",
       "        vertical-align: middle;\n",
       "    }\n",
       "\n",
       "    .dataframe tbody tr th {\n",
       "        vertical-align: top;\n",
       "    }\n",
       "\n",
       "    .dataframe thead th {\n",
       "        text-align: right;\n",
       "    }\n",
       "</style>\n",
       "<table border=\"1\" class=\"dataframe\">\n",
       "  <thead>\n",
       "    <tr style=\"text-align: right;\">\n",
       "      <th></th>\n",
       "      <th>age</th>\n",
       "      <th>bmi</th>\n",
       "      <th>children</th>\n",
       "      <th>male</th>\n",
       "      <th>yes</th>\n",
       "      <th>northwest</th>\n",
       "      <th>southeast</th>\n",
       "      <th>southwest</th>\n",
       "    </tr>\n",
       "  </thead>\n",
       "  <tbody>\n",
       "    <tr>\n",
       "      <th>0</th>\n",
       "      <td>19</td>\n",
       "      <td>27.9</td>\n",
       "      <td>0</td>\n",
       "      <td>0</td>\n",
       "      <td>1</td>\n",
       "      <td>0</td>\n",
       "      <td>0</td>\n",
       "      <td>1</td>\n",
       "    </tr>\n",
       "    <tr>\n",
       "      <th>1</th>\n",
       "      <td>18</td>\n",
       "      <td>33.8</td>\n",
       "      <td>1</td>\n",
       "      <td>1</td>\n",
       "      <td>0</td>\n",
       "      <td>0</td>\n",
       "      <td>1</td>\n",
       "      <td>0</td>\n",
       "    </tr>\n",
       "    <tr>\n",
       "      <th>2</th>\n",
       "      <td>28</td>\n",
       "      <td>33.0</td>\n",
       "      <td>3</td>\n",
       "      <td>1</td>\n",
       "      <td>0</td>\n",
       "      <td>0</td>\n",
       "      <td>1</td>\n",
       "      <td>0</td>\n",
       "    </tr>\n",
       "    <tr>\n",
       "      <th>3</th>\n",
       "      <td>33</td>\n",
       "      <td>22.7</td>\n",
       "      <td>0</td>\n",
       "      <td>1</td>\n",
       "      <td>0</td>\n",
       "      <td>1</td>\n",
       "      <td>0</td>\n",
       "      <td>0</td>\n",
       "    </tr>\n",
       "    <tr>\n",
       "      <th>4</th>\n",
       "      <td>32</td>\n",
       "      <td>28.9</td>\n",
       "      <td>0</td>\n",
       "      <td>1</td>\n",
       "      <td>0</td>\n",
       "      <td>1</td>\n",
       "      <td>0</td>\n",
       "      <td>0</td>\n",
       "    </tr>\n",
       "  </tbody>\n",
       "</table>\n",
       "</div>"
      ],
      "text/plain": [
       "   age   bmi  children  male  yes  northwest  southeast  southwest\n",
       "0   19  27.9         0     0    1          0          0          1\n",
       "1   18  33.8         1     1    0          0          1          0\n",
       "2   28  33.0         3     1    0          0          1          0\n",
       "3   33  22.7         0     1    0          1          0          0\n",
       "4   32  28.9         0     1    0          1          0          0"
      ]
     },
     "execution_count": 268,
     "metadata": {},
     "output_type": "execute_result"
    }
   ],
   "source": [
    "X.head()"
   ]
  },
  {
   "cell_type": "code",
   "execution_count": 269,
   "id": "15073c8d",
   "metadata": {
    "colab": {
     "base_uri": "https://localhost:8080/"
    },
    "executionInfo": {
     "elapsed": 397,
     "status": "ok",
     "timestamp": 1661676081342,
     "user": {
      "displayName": "Aakash Savant",
      "userId": "07526083973287864057"
     },
     "user_tz": -330
    },
    "id": "15073c8d",
    "outputId": "d8872e55-99e0-44d0-ed1e-642cb2b0c06d"
   },
   "outputs": [
    {
     "data": {
      "text/plain": [
       "(1337, 9)"
      ]
     },
     "execution_count": 269,
     "metadata": {},
     "output_type": "execute_result"
    }
   ],
   "source": [
    "X1.shape"
   ]
  },
  {
   "cell_type": "code",
   "execution_count": 270,
   "id": "196b1cba",
   "metadata": {
    "colab": {
     "base_uri": "https://localhost:8080/"
    },
    "executionInfo": {
     "elapsed": 21,
     "status": "ok",
     "timestamp": 1661676082588,
     "user": {
      "displayName": "Aakash Savant",
      "userId": "07526083973287864057"
     },
     "user_tz": -330
    },
    "id": "196b1cba",
    "outputId": "8cb8541a-86c2-4d0e-e57f-0de1bb67d32d"
   },
   "outputs": [
    {
     "data": {
      "text/plain": [
       "array([[ 1. , 19. , 27.9, ...,  0. ,  0. ,  1. ],\n",
       "       [ 1. , 18. , 33.8, ...,  0. ,  1. ,  0. ],\n",
       "       [ 1. , 28. , 33. , ...,  0. ,  1. ,  0. ],\n",
       "       ...,\n",
       "       [ 1. , 18. , 36.9, ...,  0. ,  1. ,  0. ],\n",
       "       [ 1. , 21. , 25.8, ...,  0. ,  0. ,  1. ],\n",
       "       [ 1. , 61. , 29.1, ...,  1. ,  0. ,  0. ]])"
      ]
     },
     "execution_count": 270,
     "metadata": {},
     "output_type": "execute_result"
    }
   ],
   "source": [
    "X1"
   ]
  },
  {
   "cell_type": "code",
   "execution_count": 275,
   "id": "a0554c7d",
   "metadata": {
    "colab": {
     "base_uri": "https://localhost:8080/"
    },
    "executionInfo": {
     "elapsed": 363,
     "status": "ok",
     "timestamp": 1661676086391,
     "user": {
      "displayName": "Aakash Savant",
      "userId": "07526083973287864057"
     },
     "user_tz": -330
    },
    "id": "a0554c7d",
    "outputId": "b25b924d-2684-445b-aec5-3c55ba36b9e7"
   },
   "outputs": [
    {
     "data": {
      "text/plain": [
       "(1337, 9)"
      ]
     },
     "execution_count": 275,
     "metadata": {},
     "output_type": "execute_result"
    }
   ],
   "source": [
    "# choose significance level  usually 0.05% if p>0.05\n",
    "# for highest values parameter remove that value\n",
    "\n",
    "X_opt = X1[:,[0,1,2,3,4,5,6,7,8]]\n",
    "X_opt.shape"
   ]
  },
  {
   "cell_type": "code",
   "execution_count": 276,
   "id": "e8e12339",
   "metadata": {
    "colab": {
     "base_uri": "https://localhost:8080/",
     "height": 206
    },
    "executionInfo": {
     "elapsed": 536,
     "status": "ok",
     "timestamp": 1661676089987,
     "user": {
      "displayName": "Aakash Savant",
      "userId": "07526083973287864057"
     },
     "user_tz": -330
    },
    "id": "e8e12339",
    "outputId": "f8eca7fe-962c-43a1-8792-ac3fa9dd389c"
   },
   "outputs": [
    {
     "data": {
      "text/html": [
       "<div>\n",
       "<style scoped>\n",
       "    .dataframe tbody tr th:only-of-type {\n",
       "        vertical-align: middle;\n",
       "    }\n",
       "\n",
       "    .dataframe tbody tr th {\n",
       "        vertical-align: top;\n",
       "    }\n",
       "\n",
       "    .dataframe thead th {\n",
       "        text-align: right;\n",
       "    }\n",
       "</style>\n",
       "<table border=\"1\" class=\"dataframe\">\n",
       "  <thead>\n",
       "    <tr style=\"text-align: right;\">\n",
       "      <th></th>\n",
       "      <th>age</th>\n",
       "      <th>bmi</th>\n",
       "      <th>children</th>\n",
       "      <th>male</th>\n",
       "      <th>yes</th>\n",
       "      <th>northwest</th>\n",
       "      <th>southeast</th>\n",
       "      <th>southwest</th>\n",
       "    </tr>\n",
       "  </thead>\n",
       "  <tbody>\n",
       "    <tr>\n",
       "      <th>0</th>\n",
       "      <td>19</td>\n",
       "      <td>27.9</td>\n",
       "      <td>0</td>\n",
       "      <td>0</td>\n",
       "      <td>1</td>\n",
       "      <td>0</td>\n",
       "      <td>0</td>\n",
       "      <td>1</td>\n",
       "    </tr>\n",
       "    <tr>\n",
       "      <th>1</th>\n",
       "      <td>18</td>\n",
       "      <td>33.8</td>\n",
       "      <td>1</td>\n",
       "      <td>1</td>\n",
       "      <td>0</td>\n",
       "      <td>0</td>\n",
       "      <td>1</td>\n",
       "      <td>0</td>\n",
       "    </tr>\n",
       "    <tr>\n",
       "      <th>2</th>\n",
       "      <td>28</td>\n",
       "      <td>33.0</td>\n",
       "      <td>3</td>\n",
       "      <td>1</td>\n",
       "      <td>0</td>\n",
       "      <td>0</td>\n",
       "      <td>1</td>\n",
       "      <td>0</td>\n",
       "    </tr>\n",
       "    <tr>\n",
       "      <th>3</th>\n",
       "      <td>33</td>\n",
       "      <td>22.7</td>\n",
       "      <td>0</td>\n",
       "      <td>1</td>\n",
       "      <td>0</td>\n",
       "      <td>1</td>\n",
       "      <td>0</td>\n",
       "      <td>0</td>\n",
       "    </tr>\n",
       "    <tr>\n",
       "      <th>4</th>\n",
       "      <td>32</td>\n",
       "      <td>28.9</td>\n",
       "      <td>0</td>\n",
       "      <td>1</td>\n",
       "      <td>0</td>\n",
       "      <td>1</td>\n",
       "      <td>0</td>\n",
       "      <td>0</td>\n",
       "    </tr>\n",
       "  </tbody>\n",
       "</table>\n",
       "</div>"
      ],
      "text/plain": [
       "   age   bmi  children  male  yes  northwest  southeast  southwest\n",
       "0   19  27.9         0     0    1          0          0          1\n",
       "1   18  33.8         1     1    0          0          1          0\n",
       "2   28  33.0         3     1    0          0          1          0\n",
       "3   33  22.7         0     1    0          1          0          0\n",
       "4   32  28.9         0     1    0          1          0          0"
      ]
     },
     "execution_count": 276,
     "metadata": {},
     "output_type": "execute_result"
    }
   ],
   "source": [
    "X.head()"
   ]
  },
  {
   "cell_type": "code",
   "execution_count": 277,
   "id": "4b593101",
   "metadata": {
    "colab": {
     "base_uri": "https://localhost:8080/"
    },
    "executionInfo": {
     "elapsed": 496,
     "status": "ok",
     "timestamp": 1661676093803,
     "user": {
      "displayName": "Aakash Savant",
      "userId": "07526083973287864057"
     },
     "user_tz": -330
    },
    "id": "4b593101",
    "outputId": "253f7a32-fd03-447e-a39d-7f7aaf7c1bef"
   },
   "outputs": [
    {
     "data": {
      "text/plain": [
       "array([[ 1. , 19. , 27.9, ...,  0. ,  0. ,  1. ],\n",
       "       [ 1. , 18. , 33.8, ...,  0. ,  1. ,  0. ],\n",
       "       [ 1. , 28. , 33. , ...,  0. ,  1. ,  0. ],\n",
       "       ...,\n",
       "       [ 1. , 18. , 36.9, ...,  0. ,  1. ,  0. ],\n",
       "       [ 1. , 21. , 25.8, ...,  0. ,  0. ,  1. ],\n",
       "       [ 1. , 61. , 29.1, ...,  1. ,  0. ,  0. ]])"
      ]
     },
     "execution_count": 277,
     "metadata": {},
     "output_type": "execute_result"
    }
   ],
   "source": [
    "X_opt"
   ]
  },
  {
   "cell_type": "code",
   "execution_count": 278,
   "id": "9e5a94d1",
   "metadata": {
    "colab": {
     "base_uri": "https://localhost:8080/"
    },
    "executionInfo": {
     "elapsed": 382,
     "status": "ok",
     "timestamp": 1661676097133,
     "user": {
      "displayName": "Aakash Savant",
      "userId": "07526083973287864057"
     },
     "user_tz": -330
    },
    "id": "9e5a94d1",
    "outputId": "2e519677-9736-4930-bd0a-6da0eb486634"
   },
   "outputs": [
    {
     "data": {
      "text/plain": [
       "array([1., 1., 1., ..., 1., 1., 1.])"
      ]
     },
     "execution_count": 278,
     "metadata": {},
     "output_type": "execute_result"
    }
   ],
   "source": [
    "# Constant with 0th column\n",
    "X_opt[:,0]"
   ]
  },
  {
   "cell_type": "code",
   "execution_count": 280,
   "id": "83d11fb7",
   "metadata": {
    "colab": {
     "base_uri": "https://localhost:8080/"
    },
    "executionInfo": {
     "elapsed": 15,
     "status": "ok",
     "timestamp": 1661676099387,
     "user": {
      "displayName": "Aakash Savant",
      "userId": "07526083973287864057"
     },
     "user_tz": -330
    },
    "id": "83d11fb7",
    "outputId": "1a48887f-56d1-41e3-ace1-60d84c1b3e9e"
   },
   "outputs": [
    {
     "data": {
      "text/plain": [
       "array([19., 18., 28., ..., 18., 21., 61.])"
      ]
     },
     "execution_count": 280,
     "metadata": {},
     "output_type": "execute_result"
    }
   ],
   "source": [
    "# 'age' 1st column\n",
    "\n",
    "X_opt[:,1]"
   ]
  },
  {
   "cell_type": "code",
   "execution_count": 281,
   "id": "ff8f1692",
   "metadata": {
    "colab": {
     "base_uri": "https://localhost:8080/"
    },
    "executionInfo": {
     "elapsed": 363,
     "status": "ok",
     "timestamp": 1661676101799,
     "user": {
      "displayName": "Aakash Savant",
      "userId": "07526083973287864057"
     },
     "user_tz": -330
    },
    "id": "ff8f1692",
    "outputId": "9c000774-9a50-4941-985e-b814a0d8d377"
   },
   "outputs": [
    {
     "data": {
      "text/plain": [
       "array([27.9, 33.8, 33. , ..., 36.9, 25.8, 29.1])"
      ]
     },
     "execution_count": 281,
     "metadata": {},
     "output_type": "execute_result"
    }
   ],
   "source": [
    "# 'bmi' 2nd column\n",
    "\n",
    "X_opt[:,2]"
   ]
  },
  {
   "cell_type": "code",
   "execution_count": 282,
   "id": "3f3ae8d8",
   "metadata": {
    "colab": {
     "base_uri": "https://localhost:8080/"
    },
    "executionInfo": {
     "elapsed": 27,
     "status": "ok",
     "timestamp": 1661676103855,
     "user": {
      "displayName": "Aakash Savant",
      "userId": "07526083973287864057"
     },
     "user_tz": -330
    },
    "id": "3f3ae8d8",
    "outputId": "6cb33df8-ffda-46de-e1a1-28dcbecb9dec"
   },
   "outputs": [
    {
     "data": {
      "text/plain": [
       "array([0., 1., 3., ..., 0., 0., 0.])"
      ]
     },
     "execution_count": 282,
     "metadata": {},
     "output_type": "execute_result"
    }
   ],
   "source": [
    "# 'children' 3rd column\n",
    "\n",
    "X_opt[:,3]"
   ]
  },
  {
   "cell_type": "code",
   "execution_count": 283,
   "id": "2f50724b",
   "metadata": {
    "colab": {
     "base_uri": "https://localhost:8080/"
    },
    "executionInfo": {
     "elapsed": 26,
     "status": "ok",
     "timestamp": 1661676106409,
     "user": {
      "displayName": "Aakash Savant",
      "userId": "07526083973287864057"
     },
     "user_tz": -330
    },
    "id": "2f50724b",
    "outputId": "5e1e1d4e-db3b-4c35-969c-41e1a177d408"
   },
   "outputs": [
    {
     "data": {
      "text/plain": [
       "array([0., 1., 1., ..., 0., 0., 0.])"
      ]
     },
     "execution_count": 283,
     "metadata": {},
     "output_type": "execute_result"
    }
   ],
   "source": [
    "# 'male' 4th column\n",
    "\n",
    "X_opt[:,4]"
   ]
  },
  {
   "cell_type": "code",
   "execution_count": 284,
   "id": "9d679dbd",
   "metadata": {
    "colab": {
     "base_uri": "https://localhost:8080/"
    },
    "executionInfo": {
     "elapsed": 375,
     "status": "ok",
     "timestamp": 1661676108909,
     "user": {
      "displayName": "Aakash Savant",
      "userId": "07526083973287864057"
     },
     "user_tz": -330
    },
    "id": "9d679dbd",
    "outputId": "b82cc473-58a2-4c58-93c5-5e8c6a6a2a67"
   },
   "outputs": [
    {
     "data": {
      "text/plain": [
       "array([1., 0., 0., ..., 0., 0., 1.])"
      ]
     },
     "execution_count": 284,
     "metadata": {},
     "output_type": "execute_result"
    }
   ],
   "source": [
    "# 'yes' 5th column\n",
    "\n",
    "X_opt[:,5]"
   ]
  },
  {
   "cell_type": "code",
   "execution_count": 285,
   "id": "724542c7",
   "metadata": {
    "colab": {
     "base_uri": "https://localhost:8080/"
    },
    "executionInfo": {
     "elapsed": 428,
     "status": "ok",
     "timestamp": 1661676111349,
     "user": {
      "displayName": "Aakash Savant",
      "userId": "07526083973287864057"
     },
     "user_tz": -330
    },
    "id": "724542c7",
    "outputId": "7280dfaa-1531-4a89-9717-1fd51e4c1906"
   },
   "outputs": [
    {
     "data": {
      "text/plain": [
       "array([0., 0., 0., ..., 0., 0., 1.])"
      ]
     },
     "execution_count": 285,
     "metadata": {},
     "output_type": "execute_result"
    }
   ],
   "source": [
    "# 'north west' 6th column\n",
    "\n",
    "X_opt[:,6]"
   ]
  },
  {
   "cell_type": "code",
   "execution_count": 286,
   "id": "355d1260",
   "metadata": {
    "colab": {
     "base_uri": "https://localhost:8080/"
    },
    "executionInfo": {
     "elapsed": 374,
     "status": "ok",
     "timestamp": 1661676113438,
     "user": {
      "displayName": "Aakash Savant",
      "userId": "07526083973287864057"
     },
     "user_tz": -330
    },
    "id": "355d1260",
    "outputId": "9e8956b5-69fd-44f6-9c04-0623dbe6fd73"
   },
   "outputs": [
    {
     "data": {
      "text/plain": [
       "array([0., 1., 1., ..., 1., 0., 0.])"
      ]
     },
     "execution_count": 286,
     "metadata": {},
     "output_type": "execute_result"
    }
   ],
   "source": [
    "# 'north East' 7th column\n",
    "\n",
    "X_opt[:,7]"
   ]
  },
  {
   "cell_type": "code",
   "execution_count": 288,
   "id": "70fbb5db",
   "metadata": {
    "colab": {
     "base_uri": "https://localhost:8080/"
    },
    "executionInfo": {
     "elapsed": 405,
     "status": "ok",
     "timestamp": 1661676115834,
     "user": {
      "displayName": "Aakash Savant",
      "userId": "07526083973287864057"
     },
     "user_tz": -330
    },
    "id": "70fbb5db",
    "outputId": "23ffee6c-e21a-4cb9-fc78-16cb095223ce"
   },
   "outputs": [
    {
     "data": {
      "text/plain": [
       "array([1., 0., 0., ..., 0., 1., 0.])"
      ]
     },
     "execution_count": 288,
     "metadata": {},
     "output_type": "execute_result"
    }
   ],
   "source": [
    "# 'SouthWest' 8th column\n",
    "\n",
    "X_opt[:,8]"
   ]
  },
  {
   "cell_type": "markdown",
   "id": "61bfb651",
   "metadata": {
    "id": "61bfb651"
   },
   "source": [
    "## OLS stands for 'Ordinary Least Squares' which essentially  train an linear model"
   ]
  },
  {
   "cell_type": "code",
   "execution_count": 289,
   "id": "181451d1",
   "metadata": {
    "colab": {
     "base_uri": "https://localhost:8080/",
     "height": 601
    },
    "executionInfo": {
     "elapsed": 396,
     "status": "ok",
     "timestamp": 1661676330880,
     "user": {
      "displayName": "Aakash Savant",
      "userId": "07526083973287864057"
     },
     "user_tz": -330
    },
    "id": "181451d1",
    "outputId": "c0fc2c19-caf5-497c-b68f-0a0cb0aa0131",
    "scrolled": true
   },
   "outputs": [
    {
     "data": {
      "text/html": [
       "<table class=\"simpletable\">\n",
       "<caption>OLS Regression Results</caption>\n",
       "<tr>\n",
       "  <th>Dep. Variable:</th>         <td>charges</td>     <th>  R-squared:         </th> <td>   0.751</td> \n",
       "</tr>\n",
       "<tr>\n",
       "  <th>Model:</th>                   <td>OLS</td>       <th>  Adj. R-squared:    </th> <td>   0.749</td> \n",
       "</tr>\n",
       "<tr>\n",
       "  <th>Method:</th>             <td>Least Squares</td>  <th>  F-statistic:       </th> <td>   500.0</td> \n",
       "</tr>\n",
       "<tr>\n",
       "  <th>Date:</th>             <td>Sun, 28 Aug 2022</td> <th>  Prob (F-statistic):</th>  <td>  0.00</td>  \n",
       "</tr>\n",
       "<tr>\n",
       "  <th>Time:</th>                 <td>22:16:30</td>     <th>  Log-Likelihood:    </th> <td> -13538.</td> \n",
       "</tr>\n",
       "<tr>\n",
       "  <th>No. Observations:</th>      <td>  1337</td>      <th>  AIC:               </th> <td>2.709e+04</td>\n",
       "</tr>\n",
       "<tr>\n",
       "  <th>Df Residuals:</th>          <td>  1328</td>      <th>  BIC:               </th> <td>2.714e+04</td>\n",
       "</tr>\n",
       "<tr>\n",
       "  <th>Df Model:</th>              <td>     8</td>      <th>                     </th>     <td> </td>    \n",
       "</tr>\n",
       "<tr>\n",
       "  <th>Covariance Type:</th>      <td>nonrobust</td>    <th>                     </th>     <td> </td>    \n",
       "</tr>\n",
       "</table>\n",
       "<table class=\"simpletable\">\n",
       "<tr>\n",
       "    <td></td>       <th>coef</th>     <th>std err</th>      <th>t</th>      <th>P>|t|</th>  <th>[0.025</th>    <th>0.975]</th>  \n",
       "</tr>\n",
       "<tr>\n",
       "  <th>const</th> <td>-1.194e+04</td> <td>  988.219</td> <td>  -12.082</td> <td> 0.000</td> <td>-1.39e+04</td> <td>   -1e+04</td>\n",
       "</tr>\n",
       "<tr>\n",
       "  <th>x1</th>    <td>  256.7472</td> <td>   11.912</td> <td>   21.554</td> <td> 0.000</td> <td>  233.379</td> <td>  280.116</td>\n",
       "</tr>\n",
       "<tr>\n",
       "  <th>x2</th>    <td>  339.3472</td> <td>   28.610</td> <td>   11.861</td> <td> 0.000</td> <td>  283.221</td> <td>  395.473</td>\n",
       "</tr>\n",
       "<tr>\n",
       "  <th>x3</th>    <td>  475.0071</td> <td>  137.892</td> <td>    3.445</td> <td> 0.001</td> <td>  204.496</td> <td>  745.518</td>\n",
       "</tr>\n",
       "<tr>\n",
       "  <th>x4</th>    <td> -129.5144</td> <td>  333.185</td> <td>   -0.389</td> <td> 0.698</td> <td> -783.140</td> <td>  524.111</td>\n",
       "</tr>\n",
       "<tr>\n",
       "  <th>x5</th>    <td> 2.385e+04</td> <td>  413.334</td> <td>   57.693</td> <td> 0.000</td> <td>  2.3e+04</td> <td> 2.47e+04</td>\n",
       "</tr>\n",
       "<tr>\n",
       "  <th>x6</th>    <td> -349.0429</td> <td>  476.809</td> <td>   -0.732</td> <td> 0.464</td> <td>-1284.424</td> <td>  586.338</td>\n",
       "</tr>\n",
       "<tr>\n",
       "  <th>x7</th>    <td>-1035.8409</td> <td>  478.855</td> <td>   -2.163</td> <td> 0.031</td> <td>-1975.236</td> <td>  -96.445</td>\n",
       "</tr>\n",
       "<tr>\n",
       "  <th>x8</th>    <td> -959.3365</td> <td>  478.085</td> <td>   -2.007</td> <td> 0.045</td> <td>-1897.220</td> <td>  -21.453</td>\n",
       "</tr>\n",
       "</table>\n",
       "<table class=\"simpletable\">\n",
       "<tr>\n",
       "  <th>Omnibus:</th>       <td>299.949</td> <th>  Durbin-Watson:     </th> <td>   2.089</td> \n",
       "</tr>\n",
       "<tr>\n",
       "  <th>Prob(Omnibus):</th> <td> 0.000</td>  <th>  Jarque-Bera (JB):  </th> <td> 717.046</td> \n",
       "</tr>\n",
       "<tr>\n",
       "  <th>Skew:</th>          <td> 1.211</td>  <th>  Prob(JB):          </th> <td>1.97e-156</td>\n",
       "</tr>\n",
       "<tr>\n",
       "  <th>Kurtosis:</th>      <td> 5.647</td>  <th>  Cond. No.          </th> <td>    311.</td> \n",
       "</tr>\n",
       "</table><br/><br/>Notes:<br/>[1] Standard Errors assume that the covariance matrix of the errors is correctly specified."
      ],
      "text/plain": [
       "<class 'statsmodels.iolib.summary.Summary'>\n",
       "\"\"\"\n",
       "                            OLS Regression Results                            \n",
       "==============================================================================\n",
       "Dep. Variable:                charges   R-squared:                       0.751\n",
       "Model:                            OLS   Adj. R-squared:                  0.749\n",
       "Method:                 Least Squares   F-statistic:                     500.0\n",
       "Date:                Sun, 28 Aug 2022   Prob (F-statistic):               0.00\n",
       "Time:                        22:16:30   Log-Likelihood:                -13538.\n",
       "No. Observations:                1337   AIC:                         2.709e+04\n",
       "Df Residuals:                    1328   BIC:                         2.714e+04\n",
       "Df Model:                           8                                         \n",
       "Covariance Type:            nonrobust                                         \n",
       "==============================================================================\n",
       "                 coef    std err          t      P>|t|      [0.025      0.975]\n",
       "------------------------------------------------------------------------------\n",
       "const      -1.194e+04    988.219    -12.082      0.000   -1.39e+04      -1e+04\n",
       "x1           256.7472     11.912     21.554      0.000     233.379     280.116\n",
       "x2           339.3472     28.610     11.861      0.000     283.221     395.473\n",
       "x3           475.0071    137.892      3.445      0.001     204.496     745.518\n",
       "x4          -129.5144    333.185     -0.389      0.698    -783.140     524.111\n",
       "x5          2.385e+04    413.334     57.693      0.000     2.3e+04    2.47e+04\n",
       "x6          -349.0429    476.809     -0.732      0.464   -1284.424     586.338\n",
       "x7         -1035.8409    478.855     -2.163      0.031   -1975.236     -96.445\n",
       "x8          -959.3365    478.085     -2.007      0.045   -1897.220     -21.453\n",
       "==============================================================================\n",
       "Omnibus:                      299.949   Durbin-Watson:                   2.089\n",
       "Prob(Omnibus):                  0.000   Jarque-Bera (JB):              717.046\n",
       "Skew:                           1.211   Prob(JB):                    1.97e-156\n",
       "Kurtosis:                       5.647   Cond. No.                         311.\n",
       "==============================================================================\n",
       "\n",
       "Notes:\n",
       "[1] Standard Errors assume that the covariance matrix of the errors is correctly specified.\n",
       "\"\"\""
      ]
     },
     "execution_count": 289,
     "metadata": {},
     "output_type": "execute_result"
    }
   ],
   "source": [
    "ols = sm.OLS(endog=y,exog=X_opt).fit()\n",
    "ols.summary()"
   ]
  },
  {
   "cell_type": "markdown",
   "id": "TabjC65JoR7g",
   "metadata": {
    "id": "TabjC65JoR7g"
   },
   "source": [
    "### Observation !!\n",
    "From the Summary, We Observe  that highest P-Value is for 4th Feature (Male) is 0.698 , which is way over Significance level  of 0.05 Hence we will remove  'male'\n",
    "Feature\n"
   ]
  },
  {
   "cell_type": "markdown",
   "id": "IUoZOg4po5Nv",
   "metadata": {
    "id": "IUoZOg4po5Nv"
   },
   "source": [
    "## Removing  the variable X4\n"
   ]
  },
  {
   "cell_type": "code",
   "execution_count": 290,
   "id": "1f04880c",
   "metadata": {
    "colab": {
     "base_uri": "https://localhost:8080/"
    },
    "executionInfo": {
     "elapsed": 425,
     "status": "ok",
     "timestamp": 1661676874825,
     "user": {
      "displayName": "Aakash Savant",
      "userId": "07526083973287864057"
     },
     "user_tz": -330
    },
    "id": "1f04880c",
    "outputId": "83f7b0b3-ac7f-4f15-e35d-77b5d77ff31d"
   },
   "outputs": [
    {
     "data": {
      "text/plain": [
       "(1337, 8)"
      ]
     },
     "execution_count": 290,
     "metadata": {},
     "output_type": "execute_result"
    }
   ],
   "source": [
    "# Remove 4th Column (X4=Male) from  x1 is its highest p-value  is 0.698\n",
    "# Build OLS  with remaining features  and check most significance value \n",
    "\n",
    "X_opt1 = X1[:,[0,1,2,3,5,6,7,8]]\n",
    "X_opt1.shape"
   ]
  },
  {
   "cell_type": "code",
   "execution_count": 291,
   "id": "CoqY3JtEpghq",
   "metadata": {
    "colab": {
     "base_uri": "https://localhost:8080/",
     "height": 580
    },
    "executionInfo": {
     "elapsed": 8,
     "status": "ok",
     "timestamp": 1661676961524,
     "user": {
      "displayName": "Aakash Savant",
      "userId": "07526083973287864057"
     },
     "user_tz": -330
    },
    "id": "CoqY3JtEpghq",
    "outputId": "fac5e32b-89d5-494a-dc07-19addeb88b10"
   },
   "outputs": [
    {
     "data": {
      "text/html": [
       "<table class=\"simpletable\">\n",
       "<caption>OLS Regression Results</caption>\n",
       "<tr>\n",
       "  <th>Dep. Variable:</th>         <td>charges</td>     <th>  R-squared:         </th> <td>   0.751</td> \n",
       "</tr>\n",
       "<tr>\n",
       "  <th>Model:</th>                   <td>OLS</td>       <th>  Adj. R-squared:    </th> <td>   0.749</td> \n",
       "</tr>\n",
       "<tr>\n",
       "  <th>Method:</th>             <td>Least Squares</td>  <th>  F-statistic:       </th> <td>   571.8</td> \n",
       "</tr>\n",
       "<tr>\n",
       "  <th>Date:</th>             <td>Sun, 28 Aug 2022</td> <th>  Prob (F-statistic):</th>  <td>  0.00</td>  \n",
       "</tr>\n",
       "<tr>\n",
       "  <th>Time:</th>                 <td>22:18:32</td>     <th>  Log-Likelihood:    </th> <td> -13538.</td> \n",
       "</tr>\n",
       "<tr>\n",
       "  <th>No. Observations:</th>      <td>  1337</td>      <th>  AIC:               </th> <td>2.709e+04</td>\n",
       "</tr>\n",
       "<tr>\n",
       "  <th>Df Residuals:</th>          <td>  1329</td>      <th>  BIC:               </th> <td>2.713e+04</td>\n",
       "</tr>\n",
       "<tr>\n",
       "  <th>Df Model:</th>              <td>     7</td>      <th>                     </th>     <td> </td>    \n",
       "</tr>\n",
       "<tr>\n",
       "  <th>Covariance Type:</th>      <td>nonrobust</td>    <th>                     </th>     <td> </td>    \n",
       "</tr>\n",
       "</table>\n",
       "<table class=\"simpletable\">\n",
       "<tr>\n",
       "    <td></td>       <th>coef</th>     <th>std err</th>      <th>t</th>      <th>P>|t|</th>  <th>[0.025</th>    <th>0.975]</th>  \n",
       "</tr>\n",
       "<tr>\n",
       "  <th>const</th> <td>-1.199e+04</td> <td>  979.201</td> <td>  -12.245</td> <td> 0.000</td> <td>-1.39e+04</td> <td>-1.01e+04</td>\n",
       "</tr>\n",
       "<tr>\n",
       "  <th>x1</th>    <td>  256.8577</td> <td>   11.905</td> <td>   21.576</td> <td> 0.000</td> <td>  233.504</td> <td>  280.212</td>\n",
       "</tr>\n",
       "<tr>\n",
       "  <th>x2</th>    <td>  338.8292</td> <td>   28.570</td> <td>   11.860</td> <td> 0.000</td> <td>  282.782</td> <td>  394.876</td>\n",
       "</tr>\n",
       "<tr>\n",
       "  <th>x3</th>    <td>  474.0489</td> <td>  137.826</td> <td>    3.439</td> <td> 0.001</td> <td>  203.668</td> <td>  744.430</td>\n",
       "</tr>\n",
       "<tr>\n",
       "  <th>x4</th>    <td> 2.383e+04</td> <td>  412.024</td> <td>   57.846</td> <td> 0.000</td> <td>  2.3e+04</td> <td> 2.46e+04</td>\n",
       "</tr>\n",
       "<tr>\n",
       "  <th>x5</th>    <td> -348.0678</td> <td>  476.650</td> <td>   -0.730</td> <td> 0.465</td> <td>-1283.136</td> <td>  587.001</td>\n",
       "</tr>\n",
       "<tr>\n",
       "  <th>x6</th>    <td>-1035.2019</td> <td>  478.700</td> <td>   -2.163</td> <td> 0.031</td> <td>-1974.291</td> <td>  -96.113</td>\n",
       "</tr>\n",
       "<tr>\n",
       "  <th>x7</th>    <td> -958.6730</td> <td>  477.929</td> <td>   -2.006</td> <td> 0.045</td> <td>-1896.251</td> <td>  -21.095</td>\n",
       "</tr>\n",
       "</table>\n",
       "<table class=\"simpletable\">\n",
       "<tr>\n",
       "  <th>Omnibus:</th>       <td>300.308</td> <th>  Durbin-Watson:     </th> <td>   2.089</td> \n",
       "</tr>\n",
       "<tr>\n",
       "  <th>Prob(Omnibus):</th> <td> 0.000</td>  <th>  Jarque-Bera (JB):  </th> <td> 718.636</td> \n",
       "</tr>\n",
       "<tr>\n",
       "  <th>Skew:</th>          <td> 1.212</td>  <th>  Prob(JB):          </th> <td>8.92e-157</td>\n",
       "</tr>\n",
       "<tr>\n",
       "  <th>Kurtosis:</th>      <td> 5.650</td>  <th>  Cond. No.          </th> <td>    308.</td> \n",
       "</tr>\n",
       "</table><br/><br/>Notes:<br/>[1] Standard Errors assume that the covariance matrix of the errors is correctly specified."
      ],
      "text/plain": [
       "<class 'statsmodels.iolib.summary.Summary'>\n",
       "\"\"\"\n",
       "                            OLS Regression Results                            \n",
       "==============================================================================\n",
       "Dep. Variable:                charges   R-squared:                       0.751\n",
       "Model:                            OLS   Adj. R-squared:                  0.749\n",
       "Method:                 Least Squares   F-statistic:                     571.8\n",
       "Date:                Sun, 28 Aug 2022   Prob (F-statistic):               0.00\n",
       "Time:                        22:18:32   Log-Likelihood:                -13538.\n",
       "No. Observations:                1337   AIC:                         2.709e+04\n",
       "Df Residuals:                    1329   BIC:                         2.713e+04\n",
       "Df Model:                           7                                         \n",
       "Covariance Type:            nonrobust                                         \n",
       "==============================================================================\n",
       "                 coef    std err          t      P>|t|      [0.025      0.975]\n",
       "------------------------------------------------------------------------------\n",
       "const      -1.199e+04    979.201    -12.245      0.000   -1.39e+04   -1.01e+04\n",
       "x1           256.8577     11.905     21.576      0.000     233.504     280.212\n",
       "x2           338.8292     28.570     11.860      0.000     282.782     394.876\n",
       "x3           474.0489    137.826      3.439      0.001     203.668     744.430\n",
       "x4          2.383e+04    412.024     57.846      0.000     2.3e+04    2.46e+04\n",
       "x5          -348.0678    476.650     -0.730      0.465   -1283.136     587.001\n",
       "x6         -1035.2019    478.700     -2.163      0.031   -1974.291     -96.113\n",
       "x7          -958.6730    477.929     -2.006      0.045   -1896.251     -21.095\n",
       "==============================================================================\n",
       "Omnibus:                      300.308   Durbin-Watson:                   2.089\n",
       "Prob(Omnibus):                  0.000   Jarque-Bera (JB):              718.636\n",
       "Skew:                           1.212   Prob(JB):                    8.92e-157\n",
       "Kurtosis:                       5.650   Cond. No.                         308.\n",
       "==============================================================================\n",
       "\n",
       "Notes:\n",
       "[1] Standard Errors assume that the covariance matrix of the errors is correctly specified.\n",
       "\"\"\""
      ]
     },
     "execution_count": 291,
     "metadata": {},
     "output_type": "execute_result"
    }
   ],
   "source": [
    "ols = sm.OLS(endog=y,exog=X_opt1).fit()\n",
    "ols.summary()"
   ]
  },
  {
   "cell_type": "markdown",
   "id": "SMT7Kecmq_uP",
   "metadata": {
    "id": "SMT7Kecmq_uP"
   },
   "source": [
    "### Observation !!\n",
    "\n",
    "we observe highest p-value  is for 6th Feature  of X1or X5 of X_opt1(NorthWest) is 0.465 which is way over significance level of 0.05. So we remove it"
   ]
  },
  {
   "cell_type": "code",
   "execution_count": 292,
   "id": "RG6qCBTjqjZ_",
   "metadata": {
    "colab": {
     "base_uri": "https://localhost:8080/"
    },
    "executionInfo": {
     "elapsed": 369,
     "status": "ok",
     "timestamp": 1661677452996,
     "user": {
      "displayName": "Aakash Savant",
      "userId": "07526083973287864057"
     },
     "user_tz": -330
    },
    "id": "RG6qCBTjqjZ_",
    "outputId": "7787d253-3a2e-4371-9aba-d71e91bf89c6"
   },
   "outputs": [
    {
     "data": {
      "text/plain": [
       "(1337, 7)"
      ]
     },
     "execution_count": 292,
     "metadata": {},
     "output_type": "execute_result"
    }
   ],
   "source": [
    "# Remove 6th column (male)  from x1 as it is highest p-value  is 0.465\n",
    "# Build OLS with Remaining Features  and check most significance value \n",
    "\n",
    "\n",
    "reg_opt2 = X1[:,[0,1,2,3,5,7,8]]\n",
    "reg_opt2.shape"
   ]
  },
  {
   "cell_type": "code",
   "execution_count": 293,
   "id": "_v2PtT_csbiX",
   "metadata": {
    "colab": {
     "base_uri": "https://localhost:8080/",
     "height": 558
    },
    "executionInfo": {
     "elapsed": 381,
     "status": "ok",
     "timestamp": 1661677597449,
     "user": {
      "displayName": "Aakash Savant",
      "userId": "07526083973287864057"
     },
     "user_tz": -330
    },
    "id": "_v2PtT_csbiX",
    "outputId": "5d15c3e4-9eff-4924-9d15-7b5474ae833d"
   },
   "outputs": [
    {
     "data": {
      "text/html": [
       "<table class=\"simpletable\">\n",
       "<caption>OLS Regression Results</caption>\n",
       "<tr>\n",
       "  <th>Dep. Variable:</th>         <td>charges</td>     <th>  R-squared:         </th> <td>   0.751</td> \n",
       "</tr>\n",
       "<tr>\n",
       "  <th>Model:</th>                   <td>OLS</td>       <th>  Adj. R-squared:    </th> <td>   0.750</td> \n",
       "</tr>\n",
       "<tr>\n",
       "  <th>Method:</th>             <td>Least Squares</td>  <th>  F-statistic:       </th> <td>   667.3</td> \n",
       "</tr>\n",
       "<tr>\n",
       "  <th>Date:</th>             <td>Sun, 28 Aug 2022</td> <th>  Prob (F-statistic):</th>  <td>  0.00</td>  \n",
       "</tr>\n",
       "<tr>\n",
       "  <th>Time:</th>                 <td>22:19:38</td>     <th>  Log-Likelihood:    </th> <td> -13538.</td> \n",
       "</tr>\n",
       "<tr>\n",
       "  <th>No. Observations:</th>      <td>  1337</td>      <th>  AIC:               </th> <td>2.709e+04</td>\n",
       "</tr>\n",
       "<tr>\n",
       "  <th>Df Residuals:</th>          <td>  1330</td>      <th>  BIC:               </th> <td>2.713e+04</td>\n",
       "</tr>\n",
       "<tr>\n",
       "  <th>Df Model:</th>              <td>     6</td>      <th>                     </th>     <td> </td>    \n",
       "</tr>\n",
       "<tr>\n",
       "  <th>Covariance Type:</th>      <td>nonrobust</td>    <th>                     </th>     <td> </td>    \n",
       "</tr>\n",
       "</table>\n",
       "<table class=\"simpletable\">\n",
       "<tr>\n",
       "    <td></td>       <th>coef</th>     <th>std err</th>      <th>t</th>      <th>P>|t|</th>  <th>[0.025</th>    <th>0.975]</th>  \n",
       "</tr>\n",
       "<tr>\n",
       "  <th>const</th> <td>-1.216e+04</td> <td>  950.141</td> <td>  -12.801</td> <td> 0.000</td> <td> -1.4e+04</td> <td>-1.03e+04</td>\n",
       "</tr>\n",
       "<tr>\n",
       "  <th>x1</th>    <td>  256.8764</td> <td>   11.903</td> <td>   21.581</td> <td> 0.000</td> <td>  233.526</td> <td>  280.226</td>\n",
       "</tr>\n",
       "<tr>\n",
       "  <th>x2</th>    <td>  338.8163</td> <td>   28.565</td> <td>   11.861</td> <td> 0.000</td> <td>  282.779</td> <td>  394.854</td>\n",
       "</tr>\n",
       "<tr>\n",
       "  <th>x3</th>    <td>  470.9691</td> <td>  137.738</td> <td>    3.419</td> <td> 0.001</td> <td>  200.762</td> <td>  741.176</td>\n",
       "</tr>\n",
       "<tr>\n",
       "  <th>x4</th>    <td> 2.384e+04</td> <td>  411.830</td> <td>   57.892</td> <td> 0.000</td> <td>  2.3e+04</td> <td> 2.46e+04</td>\n",
       "</tr>\n",
       "<tr>\n",
       "  <th>x5</th>    <td> -861.6781</td> <td>  415.483</td> <td>   -2.074</td> <td> 0.038</td> <td>-1676.752</td> <td>  -46.604</td>\n",
       "</tr>\n",
       "<tr>\n",
       "  <th>x6</th>    <td> -784.3870</td> <td>  413.996</td> <td>   -1.895</td> <td> 0.058</td> <td>-1596.543</td> <td>   27.769</td>\n",
       "</tr>\n",
       "</table>\n",
       "<table class=\"simpletable\">\n",
       "<tr>\n",
       "  <th>Omnibus:</th>       <td>299.697</td> <th>  Durbin-Watson:     </th> <td>   2.092</td> \n",
       "</tr>\n",
       "<tr>\n",
       "  <th>Prob(Omnibus):</th> <td> 0.000</td>  <th>  Jarque-Bera (JB):  </th> <td> 714.733</td> \n",
       "</tr>\n",
       "<tr>\n",
       "  <th>Skew:</th>          <td> 1.211</td>  <th>  Prob(JB):          </th> <td>6.28e-156</td>\n",
       "</tr>\n",
       "<tr>\n",
       "  <th>Kurtosis:</th>      <td> 5.639</td>  <th>  Cond. No.          </th> <td>    295.</td> \n",
       "</tr>\n",
       "</table><br/><br/>Notes:<br/>[1] Standard Errors assume that the covariance matrix of the errors is correctly specified."
      ],
      "text/plain": [
       "<class 'statsmodels.iolib.summary.Summary'>\n",
       "\"\"\"\n",
       "                            OLS Regression Results                            \n",
       "==============================================================================\n",
       "Dep. Variable:                charges   R-squared:                       0.751\n",
       "Model:                            OLS   Adj. R-squared:                  0.750\n",
       "Method:                 Least Squares   F-statistic:                     667.3\n",
       "Date:                Sun, 28 Aug 2022   Prob (F-statistic):               0.00\n",
       "Time:                        22:19:38   Log-Likelihood:                -13538.\n",
       "No. Observations:                1337   AIC:                         2.709e+04\n",
       "Df Residuals:                    1330   BIC:                         2.713e+04\n",
       "Df Model:                           6                                         \n",
       "Covariance Type:            nonrobust                                         \n",
       "==============================================================================\n",
       "                 coef    std err          t      P>|t|      [0.025      0.975]\n",
       "------------------------------------------------------------------------------\n",
       "const      -1.216e+04    950.141    -12.801      0.000    -1.4e+04   -1.03e+04\n",
       "x1           256.8764     11.903     21.581      0.000     233.526     280.226\n",
       "x2           338.8163     28.565     11.861      0.000     282.779     394.854\n",
       "x3           470.9691    137.738      3.419      0.001     200.762     741.176\n",
       "x4          2.384e+04    411.830     57.892      0.000     2.3e+04    2.46e+04\n",
       "x5          -861.6781    415.483     -2.074      0.038   -1676.752     -46.604\n",
       "x6          -784.3870    413.996     -1.895      0.058   -1596.543      27.769\n",
       "==============================================================================\n",
       "Omnibus:                      299.697   Durbin-Watson:                   2.092\n",
       "Prob(Omnibus):                  0.000   Jarque-Bera (JB):              714.733\n",
       "Skew:                           1.211   Prob(JB):                    6.28e-156\n",
       "Kurtosis:                       5.639   Cond. No.                         295.\n",
       "==============================================================================\n",
       "\n",
       "Notes:\n",
       "[1] Standard Errors assume that the covariance matrix of the errors is correctly specified.\n",
       "\"\"\""
      ]
     },
     "execution_count": 293,
     "metadata": {},
     "output_type": "execute_result"
    }
   ],
   "source": [
    "ols = sm.OLS(endog=y,exog=reg_opt2).fit()\n",
    "ols.summary()"
   ]
  },
  {
   "cell_type": "code",
   "execution_count": 294,
   "id": "SIFtEeIwsrk8",
   "metadata": {
    "colab": {
     "base_uri": "https://localhost:8080/"
    },
    "executionInfo": {
     "elapsed": 415,
     "status": "ok",
     "timestamp": 1661677907032,
     "user": {
      "displayName": "Aakash Savant",
      "userId": "07526083973287864057"
     },
     "user_tz": -330
    },
    "id": "SIFtEeIwsrk8",
    "outputId": "d1255e10-54ff-437f-9b0c-a5d7a58faedd"
   },
   "outputs": [
    {
     "data": {
      "text/plain": [
       "(1337, 6)"
      ]
     },
     "execution_count": 294,
     "metadata": {},
     "output_type": "execute_result"
    }
   ],
   "source": [
    "# we observe highest p-value is for 8th Feature of X1or X6 of X_opt2(Southwest) is 0.058 which is greater than 0.05. So we remove it\n",
    "\n",
    "\n",
    "X_opt3 = X1[:,[0,1,2,3,5,7]]\n",
    "X_opt3.shape"
   ]
  },
  {
   "cell_type": "code",
   "execution_count": 295,
   "id": "aT_7WAznuKbk",
   "metadata": {
    "colab": {
     "base_uri": "https://localhost:8080/",
     "height": 537
    },
    "executionInfo": {
     "elapsed": 389,
     "status": "ok",
     "timestamp": 1661677971752,
     "user": {
      "displayName": "Aakash Savant",
      "userId": "07526083973287864057"
     },
     "user_tz": -330
    },
    "id": "aT_7WAznuKbk",
    "outputId": "e1310486-cbb8-458a-f330-445986556b78"
   },
   "outputs": [
    {
     "data": {
      "text/html": [
       "<table class=\"simpletable\">\n",
       "<caption>OLS Regression Results</caption>\n",
       "<tr>\n",
       "  <th>Dep. Variable:</th>         <td>charges</td>     <th>  R-squared:         </th> <td>   0.750</td> \n",
       "</tr>\n",
       "<tr>\n",
       "  <th>Model:</th>                   <td>OLS</td>       <th>  Adj. R-squared:    </th> <td>   0.749</td> \n",
       "</tr>\n",
       "<tr>\n",
       "  <th>Method:</th>             <td>Least Squares</td>  <th>  F-statistic:       </th> <td>   798.4</td> \n",
       "</tr>\n",
       "<tr>\n",
       "  <th>Date:</th>             <td>Sun, 28 Aug 2022</td> <th>  Prob (F-statistic):</th>  <td>  0.00</td>  \n",
       "</tr>\n",
       "<tr>\n",
       "  <th>Time:</th>                 <td>22:20:18</td>     <th>  Log-Likelihood:    </th> <td> -13540.</td> \n",
       "</tr>\n",
       "<tr>\n",
       "  <th>No. Observations:</th>      <td>  1337</td>      <th>  AIC:               </th> <td>2.709e+04</td>\n",
       "</tr>\n",
       "<tr>\n",
       "  <th>Df Residuals:</th>          <td>  1331</td>      <th>  BIC:               </th> <td>2.712e+04</td>\n",
       "</tr>\n",
       "<tr>\n",
       "  <th>Df Model:</th>              <td>     5</td>      <th>                     </th>     <td> </td>    \n",
       "</tr>\n",
       "<tr>\n",
       "  <th>Covariance Type:</th>      <td>nonrobust</td>    <th>                     </th>     <td> </td>    \n",
       "</tr>\n",
       "</table>\n",
       "<table class=\"simpletable\">\n",
       "<tr>\n",
       "    <td></td>       <th>coef</th>     <th>std err</th>      <th>t</th>      <th>P>|t|</th>  <th>[0.025</th>    <th>0.975]</th>  \n",
       "</tr>\n",
       "<tr>\n",
       "  <th>const</th> <td>-1.227e+04</td> <td>  949.234</td> <td>  -12.931</td> <td> 0.000</td> <td>-1.41e+04</td> <td>-1.04e+04</td>\n",
       "</tr>\n",
       "<tr>\n",
       "  <th>x1</th>    <td>  257.0274</td> <td>   11.914</td> <td>   21.574</td> <td> 0.000</td> <td>  233.655</td> <td>  280.400</td>\n",
       "</tr>\n",
       "<tr>\n",
       "  <th>x2</th>    <td>  333.6058</td> <td>   28.460</td> <td>   11.722</td> <td> 0.000</td> <td>  277.775</td> <td>  389.437</td>\n",
       "</tr>\n",
       "<tr>\n",
       "  <th>x3</th>    <td>  467.6244</td> <td>  137.860</td> <td>    3.392</td> <td> 0.001</td> <td>  197.177</td> <td>  738.071</td>\n",
       "</tr>\n",
       "<tr>\n",
       "  <th>x4</th>    <td> 2.385e+04</td> <td>  412.194</td> <td>   57.866</td> <td> 0.000</td> <td>  2.3e+04</td> <td> 2.47e+04</td>\n",
       "</tr>\n",
       "<tr>\n",
       "  <th>x5</th>    <td> -581.1883</td> <td>  388.592</td> <td>   -1.496</td> <td> 0.135</td> <td>-1343.507</td> <td>  181.130</td>\n",
       "</tr>\n",
       "</table>\n",
       "<table class=\"simpletable\">\n",
       "<tr>\n",
       "  <th>Omnibus:</th>       <td>302.495</td> <th>  Durbin-Watson:     </th> <td>   2.090</td> \n",
       "</tr>\n",
       "<tr>\n",
       "  <th>Prob(Omnibus):</th> <td> 0.000</td>  <th>  Jarque-Bera (JB):  </th> <td> 725.089</td> \n",
       "</tr>\n",
       "<tr>\n",
       "  <th>Skew:</th>          <td> 1.220</td>  <th>  Prob(JB):          </th> <td>3.54e-158</td>\n",
       "</tr>\n",
       "<tr>\n",
       "  <th>Kurtosis:</th>      <td> 5.658</td>  <th>  Cond. No.          </th> <td>    294.</td> \n",
       "</tr>\n",
       "</table><br/><br/>Notes:<br/>[1] Standard Errors assume that the covariance matrix of the errors is correctly specified."
      ],
      "text/plain": [
       "<class 'statsmodels.iolib.summary.Summary'>\n",
       "\"\"\"\n",
       "                            OLS Regression Results                            \n",
       "==============================================================================\n",
       "Dep. Variable:                charges   R-squared:                       0.750\n",
       "Model:                            OLS   Adj. R-squared:                  0.749\n",
       "Method:                 Least Squares   F-statistic:                     798.4\n",
       "Date:                Sun, 28 Aug 2022   Prob (F-statistic):               0.00\n",
       "Time:                        22:20:18   Log-Likelihood:                -13540.\n",
       "No. Observations:                1337   AIC:                         2.709e+04\n",
       "Df Residuals:                    1331   BIC:                         2.712e+04\n",
       "Df Model:                           5                                         \n",
       "Covariance Type:            nonrobust                                         \n",
       "==============================================================================\n",
       "                 coef    std err          t      P>|t|      [0.025      0.975]\n",
       "------------------------------------------------------------------------------\n",
       "const      -1.227e+04    949.234    -12.931      0.000   -1.41e+04   -1.04e+04\n",
       "x1           257.0274     11.914     21.574      0.000     233.655     280.400\n",
       "x2           333.6058     28.460     11.722      0.000     277.775     389.437\n",
       "x3           467.6244    137.860      3.392      0.001     197.177     738.071\n",
       "x4          2.385e+04    412.194     57.866      0.000     2.3e+04    2.47e+04\n",
       "x5          -581.1883    388.592     -1.496      0.135   -1343.507     181.130\n",
       "==============================================================================\n",
       "Omnibus:                      302.495   Durbin-Watson:                   2.090\n",
       "Prob(Omnibus):                  0.000   Jarque-Bera (JB):              725.089\n",
       "Skew:                           1.220   Prob(JB):                    3.54e-158\n",
       "Kurtosis:                       5.658   Cond. No.                         294.\n",
       "==============================================================================\n",
       "\n",
       "Notes:\n",
       "[1] Standard Errors assume that the covariance matrix of the errors is correctly specified.\n",
       "\"\"\""
      ]
     },
     "execution_count": 295,
     "metadata": {},
     "output_type": "execute_result"
    }
   ],
   "source": [
    "ols = sm.OLS(endog=y,exog=X_opt3).fit()\n",
    "ols.summary()"
   ]
  },
  {
   "cell_type": "code",
   "execution_count": 298,
   "id": "hbsrxSp8uaPF",
   "metadata": {
    "colab": {
     "base_uri": "https://localhost:8080/"
    },
    "executionInfo": {
     "elapsed": 374,
     "status": "ok",
     "timestamp": 1661678245149,
     "user": {
      "displayName": "Aakash Savant",
      "userId": "07526083973287864057"
     },
     "user_tz": -330
    },
    "id": "hbsrxSp8uaPF",
    "outputId": "ce771145-2e58-4be8-f098-305f79abb2e3"
   },
   "outputs": [
    {
     "data": {
      "text/plain": [
       "(1337, 5)"
      ]
     },
     "execution_count": 298,
     "metadata": {},
     "output_type": "execute_result"
    }
   ],
   "source": [
    "# from observation \n",
    "\n",
    "# we observe highest p-value  is for 7th Feature  of X1or X5 of X_opt3(SouthEast) is 0.138 which is way over significance level  of 0.05 Hence we remove it\n",
    "X_opt4 = X1[:,[0,1,2,3,5]]\n",
    "X_opt4.shape\n"
   ]
  },
  {
   "cell_type": "code",
   "execution_count": 299,
   "id": "cJ4BkejQvU6i",
   "metadata": {
    "colab": {
     "base_uri": "https://localhost:8080/",
     "height": 516
    },
    "executionInfo": {
     "elapsed": 408,
     "status": "ok",
     "timestamp": 1661678262341,
     "user": {
      "displayName": "Aakash Savant",
      "userId": "07526083973287864057"
     },
     "user_tz": -330
    },
    "id": "cJ4BkejQvU6i",
    "outputId": "cab15c31-7827-4d5f-bc7c-c6c8a559d234"
   },
   "outputs": [
    {
     "data": {
      "text/html": [
       "<table class=\"simpletable\">\n",
       "<caption>OLS Regression Results</caption>\n",
       "<tr>\n",
       "  <th>Dep. Variable:</th>         <td>charges</td>     <th>  R-squared:         </th> <td>   0.750</td> \n",
       "</tr>\n",
       "<tr>\n",
       "  <th>Model:</th>                   <td>OLS</td>       <th>  Adj. R-squared:    </th> <td>   0.749</td> \n",
       "</tr>\n",
       "<tr>\n",
       "  <th>Method:</th>             <td>Least Squares</td>  <th>  F-statistic:       </th> <td>   996.6</td> \n",
       "</tr>\n",
       "<tr>\n",
       "  <th>Date:</th>             <td>Sun, 28 Aug 2022</td> <th>  Prob (F-statistic):</th>  <td>  0.00</td>  \n",
       "</tr>\n",
       "<tr>\n",
       "  <th>Time:</th>                 <td>22:21:38</td>     <th>  Log-Likelihood:    </th> <td> -13541.</td> \n",
       "</tr>\n",
       "<tr>\n",
       "  <th>No. Observations:</th>      <td>  1337</td>      <th>  AIC:               </th> <td>2.709e+04</td>\n",
       "</tr>\n",
       "<tr>\n",
       "  <th>Df Residuals:</th>          <td>  1332</td>      <th>  BIC:               </th> <td>2.712e+04</td>\n",
       "</tr>\n",
       "<tr>\n",
       "  <th>Df Model:</th>              <td>     4</td>      <th>                     </th>     <td> </td>    \n",
       "</tr>\n",
       "<tr>\n",
       "  <th>Covariance Type:</th>      <td>nonrobust</td>    <th>                     </th>     <td> </td>    \n",
       "</tr>\n",
       "</table>\n",
       "<table class=\"simpletable\">\n",
       "<tr>\n",
       "    <td></td>       <th>coef</th>     <th>std err</th>      <th>t</th>      <th>P>|t|</th>  <th>[0.025</th>    <th>0.975]</th>  \n",
       "</tr>\n",
       "<tr>\n",
       "  <th>const</th> <td> -1.21e+04</td> <td>  942.599</td> <td>  -12.838</td> <td> 0.000</td> <td> -1.4e+04</td> <td>-1.03e+04</td>\n",
       "</tr>\n",
       "<tr>\n",
       "  <th>x1</th>    <td>  257.7568</td> <td>   11.910</td> <td>   21.643</td> <td> 0.000</td> <td>  234.393</td> <td>  281.120</td>\n",
       "</tr>\n",
       "<tr>\n",
       "  <th>x2</th>    <td>  321.9583</td> <td>   27.386</td> <td>   11.756</td> <td> 0.000</td> <td>  268.233</td> <td>  375.683</td>\n",
       "</tr>\n",
       "<tr>\n",
       "  <th>x3</th>    <td>  473.1638</td> <td>  137.874</td> <td>    3.432</td> <td> 0.001</td> <td>  202.689</td> <td>  743.639</td>\n",
       "</tr>\n",
       "<tr>\n",
       "  <th>x4</th>    <td> 2.381e+04</td> <td>  411.402</td> <td>   57.874</td> <td> 0.000</td> <td>  2.3e+04</td> <td> 2.46e+04</td>\n",
       "</tr>\n",
       "</table>\n",
       "<table class=\"simpletable\">\n",
       "<tr>\n",
       "  <th>Omnibus:</th>       <td>301.074</td> <th>  Durbin-Watson:     </th> <td>   2.088</td> \n",
       "</tr>\n",
       "<tr>\n",
       "  <th>Prob(Omnibus):</th> <td> 0.000</td>  <th>  Jarque-Bera (JB):  </th> <td> 720.378</td> \n",
       "</tr>\n",
       "<tr>\n",
       "  <th>Skew:</th>          <td> 1.215</td>  <th>  Prob(JB):          </th> <td>3.73e-157</td>\n",
       "</tr>\n",
       "<tr>\n",
       "  <th>Kurtosis:</th>      <td> 5.651</td>  <th>  Cond. No.          </th> <td>    292.</td> \n",
       "</tr>\n",
       "</table><br/><br/>Notes:<br/>[1] Standard Errors assume that the covariance matrix of the errors is correctly specified."
      ],
      "text/plain": [
       "<class 'statsmodels.iolib.summary.Summary'>\n",
       "\"\"\"\n",
       "                            OLS Regression Results                            \n",
       "==============================================================================\n",
       "Dep. Variable:                charges   R-squared:                       0.750\n",
       "Model:                            OLS   Adj. R-squared:                  0.749\n",
       "Method:                 Least Squares   F-statistic:                     996.6\n",
       "Date:                Sun, 28 Aug 2022   Prob (F-statistic):               0.00\n",
       "Time:                        22:21:38   Log-Likelihood:                -13541.\n",
       "No. Observations:                1337   AIC:                         2.709e+04\n",
       "Df Residuals:                    1332   BIC:                         2.712e+04\n",
       "Df Model:                           4                                         \n",
       "Covariance Type:            nonrobust                                         \n",
       "==============================================================================\n",
       "                 coef    std err          t      P>|t|      [0.025      0.975]\n",
       "------------------------------------------------------------------------------\n",
       "const       -1.21e+04    942.599    -12.838      0.000    -1.4e+04   -1.03e+04\n",
       "x1           257.7568     11.910     21.643      0.000     234.393     281.120\n",
       "x2           321.9583     27.386     11.756      0.000     268.233     375.683\n",
       "x3           473.1638    137.874      3.432      0.001     202.689     743.639\n",
       "x4          2.381e+04    411.402     57.874      0.000     2.3e+04    2.46e+04\n",
       "==============================================================================\n",
       "Omnibus:                      301.074   Durbin-Watson:                   2.088\n",
       "Prob(Omnibus):                  0.000   Jarque-Bera (JB):              720.378\n",
       "Skew:                           1.215   Prob(JB):                    3.73e-157\n",
       "Kurtosis:                       5.651   Cond. No.                         292.\n",
       "==============================================================================\n",
       "\n",
       "Notes:\n",
       "[1] Standard Errors assume that the covariance matrix of the errors is correctly specified.\n",
       "\"\"\""
      ]
     },
     "execution_count": 299,
     "metadata": {},
     "output_type": "execute_result"
    }
   ],
   "source": [
    "ols = sm.OLS(endog=y,exog=X_opt4).fit()\n",
    "ols.summary()"
   ]
  },
  {
   "cell_type": "code",
   "execution_count": 300,
   "id": "nQW21AAJvhLw",
   "metadata": {
    "colab": {
     "base_uri": "https://localhost:8080/"
    },
    "executionInfo": {
     "elapsed": 13,
     "status": "ok",
     "timestamp": 1661678282643,
     "user": {
      "displayName": "Aakash Savant",
      "userId": "07526083973287864057"
     },
     "user_tz": -330
    },
    "id": "nQW21AAJvhLw",
    "outputId": "af7f3781-92dc-406c-d2e6-2406245fb759"
   },
   "outputs": [
    {
     "data": {
      "text/plain": [
       "array([[ 1. , 19. , 27.9,  0. ,  1. ],\n",
       "       [ 1. , 18. , 33.8,  1. ,  0. ],\n",
       "       [ 1. , 28. , 33. ,  3. ,  0. ],\n",
       "       ...,\n",
       "       [ 1. , 18. , 36.9,  0. ,  0. ],\n",
       "       [ 1. , 21. , 25.8,  0. ,  0. ],\n",
       "       [ 1. , 61. , 29.1,  0. ,  1. ]])"
      ]
     },
     "execution_count": 300,
     "metadata": {},
     "output_type": "execute_result"
    }
   ],
   "source": [
    "X_opt4"
   ]
  },
  {
   "cell_type": "code",
   "execution_count": 301,
   "id": "Z2pHBuCmvmLY",
   "metadata": {
    "colab": {
     "base_uri": "https://localhost:8080/"
    },
    "executionInfo": {
     "elapsed": 348,
     "status": "ok",
     "timestamp": 1661678573591,
     "user": {
      "displayName": "Aakash Savant",
      "userId": "07526083973287864057"
     },
     "user_tz": -330
    },
    "id": "Z2pHBuCmvmLY",
    "outputId": "a7df29ba-ccd7-41de-b2e5-ecb1151a1e48"
   },
   "outputs": [
    {
     "data": {
      "text/plain": [
       "LinearRegression()"
      ]
     },
     "execution_count": 301,
     "metadata": {},
     "output_type": "execute_result"
    }
   ],
   "source": [
    "X_train,X_test,y_train,y_test = train_test_split(X_opt4,y,test_size=0.2,random_state=0)\n",
    "new_model = LinearRegression()\n",
    "new_model.fit(X_train,y_train)"
   ]
  },
  {
   "cell_type": "code",
   "execution_count": 302,
   "id": "gs1yU303wtLs",
   "metadata": {
    "executionInfo": {
     "elapsed": 405,
     "status": "ok",
     "timestamp": 1661678611471,
     "user": {
      "displayName": "Aakash Savant",
      "userId": "07526083973287864057"
     },
     "user_tz": -330
    },
    "id": "gs1yU303wtLs"
   },
   "outputs": [],
   "source": [
    "new_pred = new_model.predict(X_test)"
   ]
  },
  {
   "cell_type": "code",
   "execution_count": 303,
   "id": "JxUlm_vXw2am",
   "metadata": {
    "colab": {
     "base_uri": "https://localhost:8080/"
    },
    "executionInfo": {
     "elapsed": 396,
     "status": "ok",
     "timestamp": 1661678711538,
     "user": {
      "displayName": "Aakash Savant",
      "userId": "07526083973287864057"
     },
     "user_tz": -330
    },
    "id": "JxUlm_vXw2am",
    "outputId": "938cda25-809a-4cc9-8c13-8bad4f2aa878"
   },
   "outputs": [
    {
     "name": "stdout",
     "output_type": "stream",
     "text": [
      "Train_score 0.7475161330538833\n"
     ]
    }
   ],
   "source": [
    "# train Score After applying Backward Elimination Method\n",
    "train1_score = new_model.score(X_train,y_train)\n",
    "print(\"Train_score\",train1_score)"
   ]
  },
  {
   "cell_type": "code",
   "execution_count": 304,
   "id": "Y-EULsAsxO2o",
   "metadata": {
    "colab": {
     "base_uri": "https://localhost:8080/"
    },
    "executionInfo": {
     "elapsed": 396,
     "status": "ok",
     "timestamp": 1661678769607,
     "user": {
      "displayName": "Aakash Savant",
      "userId": "07526083973287864057"
     },
     "user_tz": -330
    },
    "id": "Y-EULsAsxO2o",
    "outputId": "fb367d19-0254-4154-feba-785d169a1a69"
   },
   "outputs": [
    {
     "name": "stdout",
     "output_type": "stream",
     "text": [
      "r_2_score 0.7525425247622064\n"
     ]
    }
   ],
   "source": [
    "score = r2_score(y_test,new_pred)\n",
    "print(\"r_2_score\",score)"
   ]
  },
  {
   "cell_type": "code",
   "execution_count": 305,
   "id": "9_yBDIQjxdB1",
   "metadata": {
    "colab": {
     "base_uri": "https://localhost:8080/"
    },
    "executionInfo": {
     "elapsed": 386,
     "status": "ok",
     "timestamp": 1661679006124,
     "user": {
      "displayName": "Aakash Savant",
      "userId": "07526083973287864057"
     },
     "user_tz": -330
    },
    "id": "9_yBDIQjxdB1",
    "outputId": "bef48751-1f30-458e-c096-207313005875"
   },
   "outputs": [
    {
     "name": "stdout",
     "output_type": "stream",
     "text": [
      "Mean Absolute  Error 4391.290382885985\n",
      "Mean Squared Error 41629663.85917102\n",
      "Root Mean Square Error 66.26681207728335\n"
     ]
    }
   ],
   "source": [
    "#  BEfore Backward Elimination  r_2 score : 0.74\n",
    "# After Apllying  Backward Elimination : 0.75\n",
    "\n",
    "\n",
    "print(\"Mean Absolute  Error\",metrics.mean_absolute_error(y_test,new_pred))\n",
    "print(\"Mean Squared Error\",metrics.mean_squared_error(y_test,new_pred))\n",
    "print(\"Root Mean Square Error\",np.sqrt(metrics.mean_absolute_error(y_test,new_pred)))"
   ]
  },
  {
   "cell_type": "code",
   "execution_count": 306,
   "id": "081-IOAYyWtH",
   "metadata": {
    "colab": {
     "base_uri": "https://localhost:8080/",
     "height": 206
    },
    "executionInfo": {
     "elapsed": 29,
     "status": "ok",
     "timestamp": 1661679090282,
     "user": {
      "displayName": "Aakash Savant",
      "userId": "07526083973287864057"
     },
     "user_tz": -330
    },
    "id": "081-IOAYyWtH",
    "outputId": "cce57fc4-a1ca-4c7a-d5dd-2dd89b768158"
   },
   "outputs": [
    {
     "data": {
      "text/html": [
       "<div>\n",
       "<style scoped>\n",
       "    .dataframe tbody tr th:only-of-type {\n",
       "        vertical-align: middle;\n",
       "    }\n",
       "\n",
       "    .dataframe tbody tr th {\n",
       "        vertical-align: top;\n",
       "    }\n",
       "\n",
       "    .dataframe thead th {\n",
       "        text-align: right;\n",
       "    }\n",
       "</style>\n",
       "<table border=\"1\" class=\"dataframe\">\n",
       "  <thead>\n",
       "    <tr style=\"text-align: right;\">\n",
       "      <th></th>\n",
       "      <th>Actual</th>\n",
       "      <th>predicted</th>\n",
       "      <th>variance</th>\n",
       "    </tr>\n",
       "  </thead>\n",
       "  <tbody>\n",
       "    <tr>\n",
       "      <th>1248</th>\n",
       "      <td>1633.96</td>\n",
       "      <td>5217.560992</td>\n",
       "      <td>-3583.600992</td>\n",
       "    </tr>\n",
       "    <tr>\n",
       "      <th>610</th>\n",
       "      <td>8547.69</td>\n",
       "      <td>9722.472057</td>\n",
       "      <td>-1174.782057</td>\n",
       "    </tr>\n",
       "    <tr>\n",
       "      <th>393</th>\n",
       "      <td>9290.14</td>\n",
       "      <td>10807.157449</td>\n",
       "      <td>-1517.017449</td>\n",
       "    </tr>\n",
       "    <tr>\n",
       "      <th>503</th>\n",
       "      <td>32548.34</td>\n",
       "      <td>26408.035356</td>\n",
       "      <td>6140.304644</td>\n",
       "    </tr>\n",
       "    <tr>\n",
       "      <th>198</th>\n",
       "      <td>9644.25</td>\n",
       "      <td>6858.508550</td>\n",
       "      <td>2785.741450</td>\n",
       "    </tr>\n",
       "  </tbody>\n",
       "</table>\n",
       "</div>"
      ],
      "text/plain": [
       "        Actual     predicted     variance\n",
       "1248   1633.96   5217.560992 -3583.600992\n",
       "610    8547.69   9722.472057 -1174.782057\n",
       "393    9290.14  10807.157449 -1517.017449\n",
       "503   32548.34  26408.035356  6140.304644\n",
       "198    9644.25   6858.508550  2785.741450"
      ]
     },
     "execution_count": 306,
     "metadata": {},
     "output_type": "execute_result"
    }
   ],
   "source": [
    "new_df = pd.DataFrame({'Actual':y_test,'predicted':new_pred,'variance':y_test-new_pred})\n",
    "new_df.head()"
   ]
  },
  {
   "cell_type": "code",
   "execution_count": 307,
   "id": "659z88a8yrVs",
   "metadata": {
    "colab": {
     "base_uri": "https://localhost:8080/"
    },
    "executionInfo": {
     "elapsed": 7,
     "status": "ok",
     "timestamp": 1661679130430,
     "user": {
      "displayName": "Aakash Savant",
      "userId": "07526083973287864057"
     },
     "user_tz": -330
    },
    "id": "659z88a8yrVs",
    "outputId": "f0840521-55c0-4868-eb31-a82693da4912"
   },
   "outputs": [
    {
     "data": {
      "text/plain": [
       "array([ 1. , 51. , 18.1,  0. ,  0. ])"
      ]
     },
     "execution_count": 307,
     "metadata": {},
     "output_type": "execute_result"
    }
   ],
   "source": [
    "X_opt4[198,:]"
   ]
  },
  {
   "cell_type": "code",
   "execution_count": 308,
   "id": "IiovMu7-y1RC",
   "metadata": {
    "colab": {
     "base_uri": "https://localhost:8080/"
    },
    "executionInfo": {
     "elapsed": 11,
     "status": "ok",
     "timestamp": 1661679190788,
     "user": {
      "displayName": "Aakash Savant",
      "userId": "07526083973287864057"
     },
     "user_tz": -330
    },
    "id": "IiovMu7-y1RC",
    "outputId": "a660153b-bc6a-4008-80b8-4bfe248cfc75"
   },
   "outputs": [
    {
     "data": {
      "text/plain": [
       "array([6858.50854979])"
      ]
     },
     "execution_count": 308,
     "metadata": {},
     "output_type": "execute_result"
    }
   ],
   "source": [
    "new_model.predict([[1. , 51. , 18.1,  0. ,  0.]])"
   ]
  },
  {
   "cell_type": "code",
   "execution_count": 309,
   "id": "il8BwtOyzD3v",
   "metadata": {
    "colab": {
     "base_uri": "https://localhost:8080/"
    },
    "executionInfo": {
     "elapsed": 389,
     "status": "ok",
     "timestamp": 1661679230419,
     "user": {
      "displayName": "Aakash Savant",
      "userId": "07526083973287864057"
     },
     "user_tz": -330
    },
    "id": "il8BwtOyzD3v",
    "outputId": "a503befc-8a11-4ec8-b976-e6c2ac3ce890"
   },
   "outputs": [
    {
     "name": "stdout",
     "output_type": "stream",
     "text": [
      "intercept -11023.376797378667\n"
     ]
    }
   ],
   "source": [
    "print(\"intercept\",new_model.intercept_)"
   ]
  },
  {
   "cell_type": "code",
   "execution_count": 310,
   "id": "zmS9bI1izNiG",
   "metadata": {
    "colab": {
     "base_uri": "https://localhost:8080/"
    },
    "executionInfo": {
     "elapsed": 13,
     "status": "ok",
     "timestamp": 1661679253145,
     "user": {
      "displayName": "Aakash Savant",
      "userId": "07526083973287864057"
     },
     "user_tz": -330
    },
    "id": "zmS9bI1izNiG",
    "outputId": "e9599fe6-d05f-48e2-dac2-de032b12a5ff"
   },
   "outputs": [
    {
     "name": "stdout",
     "output_type": "stream",
     "text": [
      "Coefficients [    0.           245.15144532   297.1912506    486.30815668\n",
      " 23768.63979903]\n"
     ]
    }
   ],
   "source": [
    "print(\"Coefficients\",new_model.coef_)"
   ]
  },
  {
   "cell_type": "markdown",
   "id": "cfb7e285",
   "metadata": {
    "id": "gltv-PQ61VBc"
   },
   "source": [
    "This process is one type of Feature selection techniques. We can use boosting methods to improve accuracy of the model."
   ]
  }
 ],
 "metadata": {
  "colab": {
   "name": "Linear_Regression_Handson.ipynb",
   "provenance": []
  },
  "kernelspec": {
   "display_name": "Python 3 (ipykernel)",
   "language": "python",
   "name": "python3"
  },
  "language_info": {
   "codemirror_mode": {
    "name": "ipython",
    "version": 3
   },
   "file_extension": ".py",
   "mimetype": "text/x-python",
   "name": "python",
   "nbconvert_exporter": "python",
   "pygments_lexer": "ipython3",
   "version": "3.9.12"
  }
 },
 "nbformat": 4,
 "nbformat_minor": 5
}
